{
  "nbformat": 4,
  "nbformat_minor": 0,
  "metadata": {
    "colab": {
      "name": "hw3_pos_tagging.ipynb",
      "provenance": [],
      "collapsed_sections": [],
      "toc_visible": true
    },
    "kernelspec": {
      "display_name": "Python 3",
      "language": "python",
      "name": "python3"
    },
    "language_info": {
      "codemirror_mode": {
        "name": "ipython",
        "version": 3
      },
      "file_extension": ".py",
      "mimetype": "text/x-python",
      "name": "python",
      "nbconvert_exporter": "python",
      "pygments_lexer": "ipython3",
      "version": "3.7.3"
    }
  },
  "cells": [
    {
      "cell_type": "markdown",
      "metadata": {
        "id": "Ic8xHYAyyt8G"
      },
      "source": [
        "# ID: 6031040921\n",
        "## Name: Phatcharapon Jumruspun"
      ]
    },
    {
      "cell_type": "markdown",
      "metadata": {
        "id": "SpCKO19dhHPq"
      },
      "source": [
        "# HW 3 - Neural POS Tagger\n",
        "\n",
        "In this exercise, you are going to build a set of deep learning models on part-of-speech (POS) tagging using Tensorflow 2. Tensorflow is a deep learning framwork developed by Google to provide an easier way to use standard layers and networks.\n",
        "\n",
        "To complete this exercise, you will need to build deep learning models for POS tagging in Thai using NECTEC's ORCHID corpus. You will build one model for each of the following type:\n",
        "\n",
        "- Neural POS Tagging with Word Embedding using Fixed / non-Fixed Pretrained weights\n",
        "- Neural POS Tagging with Viterbi / Marginal CRF\n",
        "\n",
        "Pretrained word embeddding are already given for you to use (albeit, a very bad one).\n",
        "\n",
        "We also provide the code for data cleaning, preprocessing and some starter code for tensorflow 2 in this notebook but feel free to modify those parts to suit your needs. Feel free to use additional libraries (e.g. scikit-learn) as long as you have a model for each type mentioned above.\n",
        "\n",
        "### Don't forget to change hardware accelrator to GPU in runtime on Google Colab ###"
      ]
    },
    {
      "cell_type": "markdown",
      "metadata": {
        "id": "Qx0YbM_8hHPt"
      },
      "source": [
        "## 1. Setup and Preprocessing"
      ]
    },
    {
      "cell_type": "markdown",
      "metadata": {
        "id": "yF3lPNNkhHPu"
      },
      "source": [
        "We use POS data from [ORCHID corpus](https://www.nectec.or.th/corpus/index.php?league=pm), which is a POS corpus for Thai language.\n",
        "A method used to read the corpus into a list of sentences with (word, POS) pairs have been implemented already. The example usage has shown below.\n",
        "We also create a word vector for unknown word by random."
      ]
    },
    {
      "cell_type": "code",
      "metadata": {
        "id": "GS6O5yT6feRd"
      },
      "source": [
        "%tensorflow_version 2.x"
      ],
      "execution_count": null,
      "outputs": []
    },
    {
      "cell_type": "code",
      "metadata": {
        "id": "58LvFz30zumq",
        "colab": {
          "base_uri": "https://localhost:8080/"
        },
        "outputId": "7e26f07e-34af-47c0-c88a-432d0fa6ecc3"
      },
      "source": [
        "!gdown --id 1tsfqDG8-HL4nkq0pq0HGifND_qDSHq-f\n",
        "!unzip resources.zip"
      ],
      "execution_count": null,
      "outputs": [
        {
          "output_type": "stream",
          "text": [
            "Downloading...\n",
            "From: https://drive.google.com/uc?id=1tsfqDG8-HL4nkq0pq0HGifND_qDSHq-f\n",
            "To: /content/resources.zip\n",
            "153MB [00:02, 59.4MB/s]\n",
            "Archive:  resources.zip\n",
            "   creating: resources/\n",
            "   creating: resources/embeddings/\n",
            "  inflating: resources/embeddings/emb_reader.py  \n",
            "   creating: __MACOSX/\n",
            "   creating: __MACOSX/resources/\n",
            "   creating: __MACOSX/resources/embeddings/\n",
            "  inflating: __MACOSX/resources/embeddings/._emb_reader.py  \n",
            " extracting: resources/embeddings/__init__.py  \n",
            "  inflating: __MACOSX/resources/embeddings/.___init__.py  \n",
            "   creating: resources/embeddings/__pycache__/\n",
            "  inflating: resources/embeddings/__pycache__/__init__.cpython-36.pyc  \n",
            "   creating: __MACOSX/resources/embeddings/__pycache__/\n",
            "  inflating: __MACOSX/resources/embeddings/__pycache__/.___init__.cpython-36.pyc  \n",
            "  inflating: resources/embeddings/__pycache__/emb_reader.cpython-36.pyc  \n",
            "  inflating: __MACOSX/resources/embeddings/__pycache__/._emb_reader.cpython-36.pyc  \n",
            "  inflating: __MACOSX/resources/embeddings/.___pycache__  \n",
            "  inflating: resources/embeddings/polyglot-th.pkl  \n",
            "  inflating: __MACOSX/resources/embeddings/._polyglot-th.pkl  \n",
            "  inflating: __MACOSX/resources/._embeddings  \n",
            "  inflating: resources/.DS_Store     \n",
            "  inflating: __MACOSX/resources/._.DS_Store  \n",
            "   creating: resources/model/\n",
            "  inflating: resources/model/crf_basic.model  \n",
            "   creating: __MACOSX/resources/model/\n",
            "  inflating: __MACOSX/resources/model/._crf_basic.model  \n",
            "  inflating: resources/model/crf_neural.model  \n",
            "  inflating: __MACOSX/resources/model/._crf_neural.model  \n",
            "  inflating: resources/model/_DS_Store  \n",
            "  inflating: __MACOSX/resources/model/.__DS_Store  \n",
            "  inflating: __MACOSX/resources/._model  \n",
            "  inflating: resources/basic_ff_embedding.pt  \n",
            "  inflating: __MACOSX/resources/._basic_ff_embedding.pt  \n",
            "   creating: resources/data/\n",
            "  inflating: resources/data/orchid_test.txt  \n",
            "   creating: __MACOSX/resources/data/\n",
            "  inflating: __MACOSX/resources/data/._orchid_test.txt  \n",
            "  inflating: resources/data/orchid_train.txt  \n",
            "  inflating: __MACOSX/resources/data/._orchid_train.txt  \n",
            "  inflating: resources/data/orchid97.txt  \n",
            "  inflating: __MACOSX/resources/data/._orchid97.txt  \n",
            " extracting: resources/data/__init__.py  \n",
            "  inflating: __MACOSX/resources/data/.___init__.py  \n",
            "   creating: resources/data/__pycache__/\n",
            "  inflating: resources/data/__pycache__/orchid_corpus.cpython-36.pyc  \n",
            "   creating: __MACOSX/resources/data/__pycache__/\n",
            "  inflating: __MACOSX/resources/data/__pycache__/._orchid_corpus.cpython-36.pyc  \n",
            "  inflating: resources/data/__pycache__/__init__.cpython-36.pyc  \n",
            "  inflating: __MACOSX/resources/data/__pycache__/.___init__.cpython-36.pyc  \n",
            "  inflating: __MACOSX/resources/data/.___pycache__  \n",
            "  inflating: resources/data/orchid_corpus.pyc  \n",
            "  inflating: __MACOSX/resources/data/._orchid_corpus.pyc  \n",
            "  inflating: resources/data/__init__.pyc  \n",
            "  inflating: __MACOSX/resources/data/.___init__.pyc  \n",
            "  inflating: resources/data/orchid_corpus.py  \n",
            "  inflating: __MACOSX/resources/data/._orchid_corpus.py  \n",
            "  inflating: __MACOSX/resources/._data  \n",
            "  inflating: __MACOSX/._resources    \n"
          ],
          "name": "stdout"
        }
      ]
    },
    {
      "cell_type": "code",
      "metadata": {
        "id": "H2a9b92hYTg2",
        "colab": {
          "base_uri": "https://localhost:8080/"
        },
        "outputId": "171746d1-8162-4455-8aab-c2526e17a76b"
      },
      "source": [
        "!pip install python-crfsuite\n",
        "!pip install tensorflow-addons\n",
        "!pip install tf2crf"
      ],
      "execution_count": null,
      "outputs": [
        {
          "output_type": "stream",
          "text": [
            "Collecting python-crfsuite\n",
            "\u001b[?25l  Downloading https://files.pythonhosted.org/packages/95/99/869dde6dbf3e0d07a013c8eebfb0a3d30776334e0097f8432b631a9a3a19/python_crfsuite-0.9.7-cp36-cp36m-manylinux1_x86_64.whl (743kB)\n",
            "\r\u001b[K     |▍                               | 10kB 16.9MB/s eta 0:00:01\r\u001b[K     |▉                               | 20kB 11.5MB/s eta 0:00:01\r\u001b[K     |█▎                              | 30kB 8.3MB/s eta 0:00:01\r\u001b[K     |█▊                              | 40kB 7.2MB/s eta 0:00:01\r\u001b[K     |██▏                             | 51kB 4.3MB/s eta 0:00:01\r\u001b[K     |██▋                             | 61kB 3.7MB/s eta 0:00:01\r\u001b[K     |███                             | 71kB 4.1MB/s eta 0:00:01\r\u001b[K     |███▌                            | 81kB 4.7MB/s eta 0:00:01\r\u001b[K     |████                            | 92kB 4.8MB/s eta 0:00:01\r\u001b[K     |████▍                           | 102kB 4.2MB/s eta 0:00:01\r\u001b[K     |████▉                           | 112kB 4.2MB/s eta 0:00:01\r\u001b[K     |█████▎                          | 122kB 4.2MB/s eta 0:00:01\r\u001b[K     |█████▊                          | 133kB 4.2MB/s eta 0:00:01\r\u001b[K     |██████▏                         | 143kB 4.2MB/s eta 0:00:01\r\u001b[K     |██████▋                         | 153kB 4.2MB/s eta 0:00:01\r\u001b[K     |███████                         | 163kB 4.2MB/s eta 0:00:01\r\u001b[K     |███████▌                        | 174kB 4.2MB/s eta 0:00:01\r\u001b[K     |████████                        | 184kB 4.2MB/s eta 0:00:01\r\u001b[K     |████████▍                       | 194kB 4.2MB/s eta 0:00:01\r\u001b[K     |████████▉                       | 204kB 4.2MB/s eta 0:00:01\r\u001b[K     |█████████▎                      | 215kB 4.2MB/s eta 0:00:01\r\u001b[K     |█████████▊                      | 225kB 4.2MB/s eta 0:00:01\r\u001b[K     |██████████▏                     | 235kB 4.2MB/s eta 0:00:01\r\u001b[K     |██████████▋                     | 245kB 4.2MB/s eta 0:00:01\r\u001b[K     |███████████                     | 256kB 4.2MB/s eta 0:00:01\r\u001b[K     |███████████▌                    | 266kB 4.2MB/s eta 0:00:01\r\u001b[K     |████████████                    | 276kB 4.2MB/s eta 0:00:01\r\u001b[K     |████████████▎                   | 286kB 4.2MB/s eta 0:00:01\r\u001b[K     |████████████▊                   | 296kB 4.2MB/s eta 0:00:01\r\u001b[K     |█████████████▏                  | 307kB 4.2MB/s eta 0:00:01\r\u001b[K     |█████████████▋                  | 317kB 4.2MB/s eta 0:00:01\r\u001b[K     |██████████████                  | 327kB 4.2MB/s eta 0:00:01\r\u001b[K     |██████████████▌                 | 337kB 4.2MB/s eta 0:00:01\r\u001b[K     |███████████████                 | 348kB 4.2MB/s eta 0:00:01\r\u001b[K     |███████████████▍                | 358kB 4.2MB/s eta 0:00:01\r\u001b[K     |███████████████▉                | 368kB 4.2MB/s eta 0:00:01\r\u001b[K     |████████████████▎               | 378kB 4.2MB/s eta 0:00:01\r\u001b[K     |████████████████▊               | 389kB 4.2MB/s eta 0:00:01\r\u001b[K     |█████████████████▏              | 399kB 4.2MB/s eta 0:00:01\r\u001b[K     |█████████████████▋              | 409kB 4.2MB/s eta 0:00:01\r\u001b[K     |██████████████████              | 419kB 4.2MB/s eta 0:00:01\r\u001b[K     |██████████████████▌             | 430kB 4.2MB/s eta 0:00:01\r\u001b[K     |███████████████████             | 440kB 4.2MB/s eta 0:00:01\r\u001b[K     |███████████████████▍            | 450kB 4.2MB/s eta 0:00:01\r\u001b[K     |███████████████████▉            | 460kB 4.2MB/s eta 0:00:01\r\u001b[K     |████████████████████▎           | 471kB 4.2MB/s eta 0:00:01\r\u001b[K     |████████████████████▊           | 481kB 4.2MB/s eta 0:00:01\r\u001b[K     |█████████████████████▏          | 491kB 4.2MB/s eta 0:00:01\r\u001b[K     |█████████████████████▋          | 501kB 4.2MB/s eta 0:00:01\r\u001b[K     |██████████████████████          | 512kB 4.2MB/s eta 0:00:01\r\u001b[K     |██████████████████████▌         | 522kB 4.2MB/s eta 0:00:01\r\u001b[K     |███████████████████████         | 532kB 4.2MB/s eta 0:00:01\r\u001b[K     |███████████████████████▍        | 542kB 4.2MB/s eta 0:00:01\r\u001b[K     |███████████████████████▉        | 552kB 4.2MB/s eta 0:00:01\r\u001b[K     |████████████████████████▎       | 563kB 4.2MB/s eta 0:00:01\r\u001b[K     |████████████████████████▋       | 573kB 4.2MB/s eta 0:00:01\r\u001b[K     |█████████████████████████       | 583kB 4.2MB/s eta 0:00:01\r\u001b[K     |█████████████████████████▌      | 593kB 4.2MB/s eta 0:00:01\r\u001b[K     |██████████████████████████      | 604kB 4.2MB/s eta 0:00:01\r\u001b[K     |██████████████████████████▍     | 614kB 4.2MB/s eta 0:00:01\r\u001b[K     |██████████████████████████▉     | 624kB 4.2MB/s eta 0:00:01\r\u001b[K     |███████████████████████████▎    | 634kB 4.2MB/s eta 0:00:01\r\u001b[K     |███████████████████████████▊    | 645kB 4.2MB/s eta 0:00:01\r\u001b[K     |████████████████████████████▏   | 655kB 4.2MB/s eta 0:00:01\r\u001b[K     |████████████████████████████▋   | 665kB 4.2MB/s eta 0:00:01\r\u001b[K     |█████████████████████████████   | 675kB 4.2MB/s eta 0:00:01\r\u001b[K     |█████████████████████████████▌  | 686kB 4.2MB/s eta 0:00:01\r\u001b[K     |██████████████████████████████  | 696kB 4.2MB/s eta 0:00:01\r\u001b[K     |██████████████████████████████▍ | 706kB 4.2MB/s eta 0:00:01\r\u001b[K     |██████████████████████████████▉ | 716kB 4.2MB/s eta 0:00:01\r\u001b[K     |███████████████████████████████▎| 727kB 4.2MB/s eta 0:00:01\r\u001b[K     |███████████████████████████████▊| 737kB 4.2MB/s eta 0:00:01\r\u001b[K     |████████████████████████████████| 747kB 4.2MB/s \n",
            "\u001b[?25hInstalling collected packages: python-crfsuite\n",
            "Successfully installed python-crfsuite-0.9.7\n",
            "Requirement already satisfied: tensorflow-addons in /usr/local/lib/python3.6/dist-packages (0.8.3)\n",
            "Requirement already satisfied: typeguard in /usr/local/lib/python3.6/dist-packages (from tensorflow-addons) (2.7.1)\n",
            "Collecting tf2crf\n",
            "  Downloading https://files.pythonhosted.org/packages/eb/f5/e9f972be845a2b0ea93c76d26ed6b7bde599a48f70554a30a528117731c8/tf2crf-0.1.29-py2.py3-none-any.whl\n",
            "Requirement already satisfied: tensorflow>=2.1.0 in /usr/local/lib/python3.6/dist-packages (from tf2crf) (2.4.1)\n",
            "Requirement already satisfied: tensorflow-addons>=0.8.2 in /usr/local/lib/python3.6/dist-packages (from tf2crf) (0.8.3)\n",
            "Requirement already satisfied: six~=1.15.0 in /usr/local/lib/python3.6/dist-packages (from tensorflow>=2.1.0->tf2crf) (1.15.0)\n",
            "Requirement already satisfied: wrapt~=1.12.1 in /usr/local/lib/python3.6/dist-packages (from tensorflow>=2.1.0->tf2crf) (1.12.1)\n",
            "Requirement already satisfied: numpy~=1.19.2 in /usr/local/lib/python3.6/dist-packages (from tensorflow>=2.1.0->tf2crf) (1.19.5)\n",
            "Requirement already satisfied: h5py~=2.10.0 in /usr/local/lib/python3.6/dist-packages (from tensorflow>=2.1.0->tf2crf) (2.10.0)\n",
            "Requirement already satisfied: opt-einsum~=3.3.0 in /usr/local/lib/python3.6/dist-packages (from tensorflow>=2.1.0->tf2crf) (3.3.0)\n",
            "Requirement already satisfied: termcolor~=1.1.0 in /usr/local/lib/python3.6/dist-packages (from tensorflow>=2.1.0->tf2crf) (1.1.0)\n",
            "Requirement already satisfied: typing-extensions~=3.7.4 in /usr/local/lib/python3.6/dist-packages (from tensorflow>=2.1.0->tf2crf) (3.7.4.3)\n",
            "Requirement already satisfied: gast==0.3.3 in /usr/local/lib/python3.6/dist-packages (from tensorflow>=2.1.0->tf2crf) (0.3.3)\n",
            "Requirement already satisfied: absl-py~=0.10 in /usr/local/lib/python3.6/dist-packages (from tensorflow>=2.1.0->tf2crf) (0.10.0)\n",
            "Requirement already satisfied: google-pasta~=0.2 in /usr/local/lib/python3.6/dist-packages (from tensorflow>=2.1.0->tf2crf) (0.2.0)\n",
            "Requirement already satisfied: wheel~=0.35 in /usr/local/lib/python3.6/dist-packages (from tensorflow>=2.1.0->tf2crf) (0.36.2)\n",
            "Requirement already satisfied: tensorflow-estimator<2.5.0,>=2.4.0 in /usr/local/lib/python3.6/dist-packages (from tensorflow>=2.1.0->tf2crf) (2.4.0)\n",
            "Requirement already satisfied: keras-preprocessing~=1.1.2 in /usr/local/lib/python3.6/dist-packages (from tensorflow>=2.1.0->tf2crf) (1.1.2)\n",
            "Requirement already satisfied: protobuf>=3.9.2 in /usr/local/lib/python3.6/dist-packages (from tensorflow>=2.1.0->tf2crf) (3.12.4)\n",
            "Requirement already satisfied: astunparse~=1.6.3 in /usr/local/lib/python3.6/dist-packages (from tensorflow>=2.1.0->tf2crf) (1.6.3)\n",
            "Requirement already satisfied: grpcio~=1.32.0 in /usr/local/lib/python3.6/dist-packages (from tensorflow>=2.1.0->tf2crf) (1.32.0)\n",
            "Requirement already satisfied: tensorboard~=2.4 in /usr/local/lib/python3.6/dist-packages (from tensorflow>=2.1.0->tf2crf) (2.4.1)\n",
            "Requirement already satisfied: flatbuffers~=1.12.0 in /usr/local/lib/python3.6/dist-packages (from tensorflow>=2.1.0->tf2crf) (1.12)\n",
            "Requirement already satisfied: typeguard in /usr/local/lib/python3.6/dist-packages (from tensorflow-addons>=0.8.2->tf2crf) (2.7.1)\n",
            "Requirement already satisfied: setuptools in /usr/local/lib/python3.6/dist-packages (from protobuf>=3.9.2->tensorflow>=2.1.0->tf2crf) (53.0.0)\n",
            "Requirement already satisfied: google-auth-oauthlib<0.5,>=0.4.1 in /usr/local/lib/python3.6/dist-packages (from tensorboard~=2.4->tensorflow>=2.1.0->tf2crf) (0.4.2)\n",
            "Requirement already satisfied: requests<3,>=2.21.0 in /usr/local/lib/python3.6/dist-packages (from tensorboard~=2.4->tensorflow>=2.1.0->tf2crf) (2.23.0)\n",
            "Requirement already satisfied: markdown>=2.6.8 in /usr/local/lib/python3.6/dist-packages (from tensorboard~=2.4->tensorflow>=2.1.0->tf2crf) (3.3.3)\n",
            "Requirement already satisfied: werkzeug>=0.11.15 in /usr/local/lib/python3.6/dist-packages (from tensorboard~=2.4->tensorflow>=2.1.0->tf2crf) (1.0.1)\n",
            "Requirement already satisfied: google-auth<2,>=1.6.3 in /usr/local/lib/python3.6/dist-packages (from tensorboard~=2.4->tensorflow>=2.1.0->tf2crf) (1.24.0)\n",
            "Requirement already satisfied: tensorboard-plugin-wit>=1.6.0 in /usr/local/lib/python3.6/dist-packages (from tensorboard~=2.4->tensorflow>=2.1.0->tf2crf) (1.8.0)\n",
            "Requirement already satisfied: requests-oauthlib>=0.7.0 in /usr/local/lib/python3.6/dist-packages (from google-auth-oauthlib<0.5,>=0.4.1->tensorboard~=2.4->tensorflow>=2.1.0->tf2crf) (1.3.0)\n",
            "Requirement already satisfied: idna<3,>=2.5 in /usr/local/lib/python3.6/dist-packages (from requests<3,>=2.21.0->tensorboard~=2.4->tensorflow>=2.1.0->tf2crf) (2.10)\n",
            "Requirement already satisfied: certifi>=2017.4.17 in /usr/local/lib/python3.6/dist-packages (from requests<3,>=2.21.0->tensorboard~=2.4->tensorflow>=2.1.0->tf2crf) (2020.12.5)\n",
            "Requirement already satisfied: chardet<4,>=3.0.2 in /usr/local/lib/python3.6/dist-packages (from requests<3,>=2.21.0->tensorboard~=2.4->tensorflow>=2.1.0->tf2crf) (3.0.4)\n",
            "Requirement already satisfied: urllib3!=1.25.0,!=1.25.1,<1.26,>=1.21.1 in /usr/local/lib/python3.6/dist-packages (from requests<3,>=2.21.0->tensorboard~=2.4->tensorflow>=2.1.0->tf2crf) (1.24.3)\n",
            "Requirement already satisfied: importlib-metadata; python_version < \"3.8\" in /usr/local/lib/python3.6/dist-packages (from markdown>=2.6.8->tensorboard~=2.4->tensorflow>=2.1.0->tf2crf) (3.4.0)\n",
            "Requirement already satisfied: cachetools<5.0,>=2.0.0 in /usr/local/lib/python3.6/dist-packages (from google-auth<2,>=1.6.3->tensorboard~=2.4->tensorflow>=2.1.0->tf2crf) (4.2.1)\n",
            "Requirement already satisfied: rsa<5,>=3.1.4; python_version >= \"3.6\" in /usr/local/lib/python3.6/dist-packages (from google-auth<2,>=1.6.3->tensorboard~=2.4->tensorflow>=2.1.0->tf2crf) (4.7)\n",
            "Requirement already satisfied: pyasn1-modules>=0.2.1 in /usr/local/lib/python3.6/dist-packages (from google-auth<2,>=1.6.3->tensorboard~=2.4->tensorflow>=2.1.0->tf2crf) (0.2.8)\n",
            "Requirement already satisfied: oauthlib>=3.0.0 in /usr/local/lib/python3.6/dist-packages (from requests-oauthlib>=0.7.0->google-auth-oauthlib<0.5,>=0.4.1->tensorboard~=2.4->tensorflow>=2.1.0->tf2crf) (3.1.0)\n",
            "Requirement already satisfied: zipp>=0.5 in /usr/local/lib/python3.6/dist-packages (from importlib-metadata; python_version < \"3.8\"->markdown>=2.6.8->tensorboard~=2.4->tensorflow>=2.1.0->tf2crf) (3.4.0)\n",
            "Requirement already satisfied: pyasn1>=0.1.3 in /usr/local/lib/python3.6/dist-packages (from rsa<5,>=3.1.4; python_version >= \"3.6\"->google-auth<2,>=1.6.3->tensorboard~=2.4->tensorflow>=2.1.0->tf2crf) (0.4.8)\n",
            "Installing collected packages: tf2crf\n",
            "Successfully installed tf2crf-0.1.29\n"
          ],
          "name": "stdout"
        }
      ]
    },
    {
      "cell_type": "code",
      "metadata": {
        "id": "_c7upY0fYsdt"
      },
      "source": [
        "%tensorflow_version 2.x"
      ],
      "execution_count": null,
      "outputs": []
    },
    {
      "cell_type": "code",
      "metadata": {
        "id": "rJpCbSvJhHPv"
      },
      "source": [
        "from data.orchid_corpus import get_sentences\n",
        "import numpy as np\n",
        "import numpy.random\n",
        "import tensorflow as tf\n",
        "np.random.seed(42)"
      ],
      "execution_count": null,
      "outputs": []
    },
    {
      "cell_type": "code",
      "metadata": {
        "id": "U4SZz56ThHP0",
        "scrolled": false,
        "colab": {
          "base_uri": "https://localhost:8080/"
        },
        "outputId": "ce127f19-744a-4250-90e9-89dd236d45be"
      },
      "source": [
        "yunk_emb =np.random.randn(32)\n",
        "train_data = get_sentences('train')\n",
        "test_data = get_sentences('test')\n",
        "print(train_data[0])"
      ],
      "execution_count": null,
      "outputs": [
        {
          "output_type": "stream",
          "text": [
            "[('การ', 'FIXN'), ('ประชุม', 'VACT'), ('ทาง', 'NCMN'), ('วิชาการ', 'NCMN'), ('<space>', 'PUNC'), ('ครั้ง', 'CFQC'), ('ที่ 1', 'DONM')]\n"
          ],
          "name": "stdout"
        }
      ]
    },
    {
      "cell_type": "markdown",
      "metadata": {
        "id": "awxn_GRIhHP3"
      },
      "source": [
        "Next, we load pretrained weight embedding using pickle. The pretrained weight is a dictionary which map a word to its embedding."
      ]
    },
    {
      "cell_type": "code",
      "metadata": {
        "id": "0GS3lTZshHP4"
      },
      "source": [
        "import pickle\n",
        "fp = open('basic_ff_embedding.pt', 'rb')\n",
        "embeddings = pickle.load(fp)\n",
        "fp.close()"
      ],
      "execution_count": null,
      "outputs": []
    },
    {
      "cell_type": "markdown",
      "metadata": {
        "id": "5CqTNKsChHP7"
      },
      "source": [
        "The given code below generates an indexed dataset(each word is represented by a number) for training and testing data. The index 0 is reserved for padding to help with variable length sequence. (Additionally, You can read more about padding here [https://machinelearningmastery.com/data-preparation-variable-length-input-sequences-sequence-prediction/])"
      ]
    },
    {
      "cell_type": "markdown",
      "metadata": {
        "id": "IPGUNEZyhHP8"
      },
      "source": [
        "## 2. Prepare Data"
      ]
    },
    {
      "cell_type": "code",
      "metadata": {
        "id": "7fMWn8qehHP9"
      },
      "source": [
        "word_to_idx ={}\n",
        "idx_to_word ={}\n",
        "label_to_idx = {}\n",
        "for sentence in train_data:\n",
        "    for word,pos in sentence:\n",
        "        if word not in word_to_idx:\n",
        "            word_to_idx[word] = len(word_to_idx)+1\n",
        "            idx_to_word[word_to_idx[word]] = word\n",
        "        if pos not in label_to_idx:\n",
        "            label_to_idx[pos] = len(label_to_idx)+1\n",
        "word_to_idx['UNK'] = len(word_to_idx)\n",
        "\n",
        "n_classes = len(label_to_idx.keys())+1"
      ],
      "execution_count": null,
      "outputs": []
    },
    {
      "cell_type": "markdown",
      "metadata": {
        "id": "QgvZ8v_2hHP_"
      },
      "source": [
        "This section is tweaked a little from the demo, word2features will return word index instead of features, and sent2labels will return a sequence of word indices in the sentence."
      ]
    },
    {
      "cell_type": "code",
      "metadata": {
        "id": "ktf2KkJghHQA"
      },
      "source": [
        "def word2features(sent, i, emb):\n",
        "    word = sent[i][0]\n",
        "    if word in word_to_idx :\n",
        "        return word_to_idx[word]\n",
        "    else :\n",
        "        return word_to_idx['UNK']\n",
        "\n",
        "def sent2features(sent, emb_dict):\n",
        "    return np.asarray([word2features(sent, i, emb_dict) for i in range(len(sent))])\n",
        "\n",
        "def sent2labels(sent):\n",
        "    return numpy.asarray([label_to_idx[label] for (word, label) in sent],dtype='int32')\n",
        "\n",
        "def sent2tokens(sent):\n",
        "    return [word for (word, label) in sent]"
      ],
      "execution_count": null,
      "outputs": []
    },
    {
      "cell_type": "code",
      "metadata": {
        "colab": {
          "base_uri": "https://localhost:8080/"
        },
        "id": "aYo3MUlpYGMw",
        "outputId": "06ec5f45-7960-4b02-ea99-11603432362d"
      },
      "source": [
        "train_data[100]"
      ],
      "execution_count": null,
      "outputs": [
        {
          "output_type": "execute_result",
          "data": {
            "text/plain": [
              "[('รัฐมนตรีว่าการ', 'NCMN'),\n",
              " ('กระทรวงวิทยาศาสตร์เทคโนโลยีและการพลังงาน', 'NPRP'),\n",
              " ('<space>', 'PUNC'),\n",
              " ('ประธานกรรมการ', 'NCMN')]"
            ]
          },
          "metadata": {
            "tags": []
          },
          "execution_count": 11
        }
      ]
    },
    {
      "cell_type": "code",
      "metadata": {
        "id": "cgBw3I9ShHQD",
        "colab": {
          "base_uri": "https://localhost:8080/"
        },
        "outputId": "c5ba378e-6286-40f7-bad1-bfb3be460b86"
      },
      "source": [
        "sent2features(train_data[100], embeddings)"
      ],
      "execution_count": null,
      "outputs": [
        {
          "output_type": "execute_result",
          "data": {
            "text/plain": [
              "array([ 29, 327,   5, 328])"
            ]
          },
          "metadata": {
            "tags": []
          },
          "execution_count": 12
        }
      ]
    },
    {
      "cell_type": "code",
      "metadata": {
        "colab": {
          "base_uri": "https://localhost:8080/"
        },
        "id": "zH_CBRW_xCmf",
        "outputId": "1de2176c-2889-42d1-cbd9-cdc28c4e8975"
      },
      "source": [
        "sent2labels(train_data[100])"
      ],
      "execution_count": null,
      "outputs": [
        {
          "output_type": "execute_result",
          "data": {
            "text/plain": [
              "array([ 3, 10,  4,  3], dtype=int32)"
            ]
          },
          "metadata": {
            "tags": []
          },
          "execution_count": 13
        }
      ]
    },
    {
      "cell_type": "code",
      "metadata": {
        "colab": {
          "base_uri": "https://localhost:8080/"
        },
        "id": "vALkNxvJxC8r",
        "outputId": "438926c1-9dee-4121-9565-cdb7f0533a58"
      },
      "source": [
        "sent2tokens(train_data[100])"
      ],
      "execution_count": null,
      "outputs": [
        {
          "output_type": "execute_result",
          "data": {
            "text/plain": [
              "['รัฐมนตรีว่าการ',\n",
              " 'กระทรวงวิทยาศาสตร์เทคโนโลยีและการพลังงาน',\n",
              " '<space>',\n",
              " 'ประธานกรรมการ']"
            ]
          },
          "metadata": {
            "tags": []
          },
          "execution_count": 14
        }
      ]
    },
    {
      "cell_type": "markdown",
      "metadata": {
        "id": "3O7oClK-hHQG"
      },
      "source": [
        "Next we create train and test dataset, then we use tensorflow 2 to post-pad the sequence to max sequence with 0. Our labels are changed to a one-hot vector."
      ]
    },
    {
      "cell_type": "code",
      "metadata": {
        "id": "0tJxtPtohHQH",
        "colab": {
          "base_uri": "https://localhost:8080/"
        },
        "outputId": "2c414bcb-3155-40ad-c7c9-b52a48e9d732"
      },
      "source": [
        "%%time\n",
        "x_train = np.asarray([sent2features(sent, embeddings) for sent in train_data])\n",
        "y_train = [sent2labels(sent) for sent in train_data]\n",
        "x_test = [sent2features(sent, embeddings) for sent in test_data]\n",
        "y_test = [sent2labels(sent) for sent in test_data]"
      ],
      "execution_count": null,
      "outputs": [
        {
          "output_type": "stream",
          "text": [
            "CPU times: user 353 ms, sys: 0 ns, total: 353 ms\n",
            "Wall time: 360 ms\n"
          ],
          "name": "stdout"
        },
        {
          "output_type": "stream",
          "text": [
            "/usr/local/lib/python3.6/dist-packages/numpy/core/_asarray.py:83: VisibleDeprecationWarning: Creating an ndarray from ragged nested sequences (which is a list-or-tuple of lists-or-tuples-or ndarrays with different lengths or shapes) is deprecated. If you meant to do this, you must specify 'dtype=object' when creating the ndarray\n",
            "  return array(a, dtype, copy=False, order=order)\n"
          ],
          "name": "stderr"
        }
      ]
    },
    {
      "cell_type": "code",
      "metadata": {
        "id": "DG1gvJ4mhHQJ"
      },
      "source": [
        "x_train=tf.keras.preprocessing.sequence.pad_sequences(x_train, maxlen=None, dtype='int32', padding='post', truncating='pre', value=0.)\n",
        "y_train=tf.keras.preprocessing.sequence.pad_sequences(y_train, maxlen=None, dtype='int32', padding='post', truncating='pre', value=0.)\n",
        "x_test=tf.keras.preprocessing.sequence.pad_sequences(x_test, maxlen=102, dtype='int32', padding='post', truncating='pre', value=0.)\n",
        "y_temp =[]\n",
        "for i in range(len(y_train)):\n",
        "    y_temp.append(np.eye(n_classes)[y_train[i]][np.newaxis,:])\n",
        "y_train = np.asarray(y_temp).reshape(-1,102,n_classes)\n",
        "del(y_temp)"
      ],
      "execution_count": null,
      "outputs": []
    },
    {
      "cell_type": "code",
      "metadata": {
        "id": "ZU9x6VdehHQM",
        "colab": {
          "base_uri": "https://localhost:8080/"
        },
        "outputId": "0ecd5c1e-435c-433f-f343-fa885f4555cb"
      },
      "source": [
        "print(x_train[100],x_train.shape)\n",
        "print(y_train[100][3],y_train.shape)"
      ],
      "execution_count": null,
      "outputs": [
        {
          "output_type": "stream",
          "text": [
            "[ 29 327   5 328   0   0   0   0   0   0   0   0   0   0   0   0   0   0\n",
            "   0   0   0   0   0   0   0   0   0   0   0   0   0   0   0   0   0   0\n",
            "   0   0   0   0   0   0   0   0   0   0   0   0   0   0   0   0   0   0\n",
            "   0   0   0   0   0   0   0   0   0   0   0   0   0   0   0   0   0   0\n",
            "   0   0   0   0   0   0   0   0   0   0   0   0   0   0   0   0   0   0\n",
            "   0   0   0   0   0   0   0   0   0   0   0   0] (18500, 102)\n",
            "[0. 0. 0. 1. 0. 0. 0. 0. 0. 0. 0. 0. 0. 0. 0. 0. 0. 0. 0. 0. 0. 0. 0. 0.\n",
            " 0. 0. 0. 0. 0. 0. 0. 0. 0. 0. 0. 0. 0. 0. 0. 0. 0. 0. 0. 0. 0. 0. 0. 0.] (18500, 102, 48)\n"
          ],
          "name": "stdout"
        }
      ]
    },
    {
      "cell_type": "markdown",
      "metadata": {
        "id": "dx_c3-LwhHQP"
      },
      "source": [
        "## 3. Evaluate"
      ]
    },
    {
      "cell_type": "markdown",
      "metadata": {
        "id": "tvCW24orhHQP"
      },
      "source": [
        "Our output from tf keras is a distribution of problabilities on all possible label. outputToLabel will return an indices of maximum problability from output sequence.\n",
        "\n",
        "evaluation_report is the same as in the demo"
      ]
    },
    {
      "cell_type": "code",
      "metadata": {
        "id": "Iqgp2gd4hHQQ"
      },
      "source": [
        "def outputToLabel(yt,seq_len):\n",
        "    out = []\n",
        "    for i in range(0,len(yt)):\n",
        "        if(i==seq_len):\n",
        "            break\n",
        "        out.append(np.argmax(yt[i]))\n",
        "    return out"
      ],
      "execution_count": null,
      "outputs": []
    },
    {
      "cell_type": "code",
      "metadata": {
        "id": "pzIL_rsAhHQT"
      },
      "source": [
        "import pandas as pd\n",
        "from IPython.display import display\n",
        "\n",
        "def evaluation_report(y_true, y_pred):\n",
        "    # retrieve all tags in y_true\n",
        "    tag_set = set()\n",
        "    for sent in y_true:\n",
        "        for tag in sent:\n",
        "            tag_set.add(tag)\n",
        "    for sent in y_pred:\n",
        "        for tag in sent:\n",
        "            tag_set.add(tag)\n",
        "    tag_list = sorted(list(tag_set))\n",
        "    \n",
        "    # count correct points\n",
        "    tag_info = dict()\n",
        "    for tag in tag_list:\n",
        "        tag_info[tag] = {'correct_tagged': 0, 'y_true': 0, 'y_pred': 0}\n",
        "\n",
        "    all_correct = 0\n",
        "    all_count = sum([len(sent) for sent in y_true])\n",
        "    for sent_true, sent_pred in zip(y_true, y_pred):\n",
        "        for tag_true, tag_pred in zip(sent_true, sent_pred):\n",
        "            if tag_true == tag_pred:\n",
        "                tag_info[tag_true]['correct_tagged'] += 1\n",
        "                all_correct += 1\n",
        "            tag_info[tag_true]['y_true'] += 1\n",
        "            tag_info[tag_pred]['y_pred'] += 1\n",
        "    accuracy = (all_correct / all_count) * 100\n",
        "            \n",
        "    # summarize and make evaluation result\n",
        "    eval_list = list()\n",
        "    for tag in tag_list:\n",
        "        eval_result = dict()\n",
        "        eval_result['tag'] = tag\n",
        "        eval_result['correct_count'] = tag_info[tag]['correct_tagged']\n",
        "        precision = (tag_info[tag]['correct_tagged']/tag_info[tag]['y_pred'])*100 if tag_info[tag]['y_pred'] else '-'\n",
        "        recall = (tag_info[tag]['correct_tagged']/tag_info[tag]['y_true'])*100 if (tag_info[tag]['y_true'] > 0) else 0\n",
        "        eval_result['precision'] = precision\n",
        "        eval_result['recall'] = recall\n",
        "        eval_result['f_score'] = (2*precision*recall)/(precision+recall) if (type(precision) is float and recall > 0) else '-'\n",
        "        \n",
        "        eval_list.append(eval_result)\n",
        "\n",
        "    eval_list.append({'tag': 'accuracy=%.2f' % accuracy, 'correct_count': '', 'precision': '', 'recall': '', 'f_score': ''})\n",
        "    \n",
        "    df = pd.DataFrame.from_dict(eval_list)\n",
        "    df = df[['tag', 'precision', 'recall', 'f_score', 'correct_count']]\n",
        "    display(df)\n",
        "    return df"
      ],
      "execution_count": null,
      "outputs": []
    },
    {
      "cell_type": "markdown",
      "metadata": {
        "id": "4YG-RiHdhHQV"
      },
      "source": [
        "## 4. Train a model"
      ]
    },
    {
      "cell_type": "code",
      "metadata": {
        "id": "2HrkAiMFhHQW"
      },
      "source": [
        "from tensorflow.keras.models import Sequential, Model\n",
        "from tensorflow.keras.layers import Embedding, Reshape, Activation, Input, Dense,GRU,Reshape,TimeDistributed,Bidirectional,Dropout,Masking\n",
        "from tensorflow.keras.optimizers import Adam"
      ],
      "execution_count": null,
      "outputs": []
    },
    {
      "cell_type": "markdown",
      "metadata": {
        "id": "U75Ivn2vhHQZ"
      },
      "source": [
        "The model is this section is separated to two groups\n",
        "\n",
        "- Neural POS Tagger (4.1)\n",
        "- Neural CRF POS Tagger (4.2)"
      ]
    },
    {
      "cell_type": "markdown",
      "metadata": {
        "id": "CLwL3B7rhHQZ"
      },
      "source": [
        "## 4.1.1 Neural POS Tagger  (Example)"
      ]
    },
    {
      "cell_type": "markdown",
      "metadata": {
        "id": "pVoB-1XVhHQa"
      },
      "source": [
        "We create a simple Neural POS Tagger as an example for you. This model dosen't use any pretrained word embbeding so it need to use Embedding layer to train the word embedding from scratch.\n",
        "\n",
        "Instead of using tensorflow.keras.models.Sequential, we use tensorflow.keras.models.Model. The latter is better as it can have multiple input/output, of which Sequential model could not. Due to this reason, the Model class is widely used for building a complex deep learning model."
      ]
    },
    {
      "cell_type": "code",
      "metadata": {
        "id": "DxBvv9qfhHQb",
        "colab": {
          "base_uri": "https://localhost:8080/"
        },
        "outputId": "81532134-12d0-4f42-fa64-0be2727fd73b"
      },
      "source": [
        "# constant words in each input = 102\n",
        "# that means we accept 102 words maximum for each sentence\n",
        "inputs = Input(shape=(102,), dtype='int32') \n",
        "\n",
        "# mask_zero will mask padded values, for model to ignore\n",
        "# We need to insert pretrain weight into Embedding here in TODO#2\n",
        "output = (Embedding(len(word_to_idx),32,input_length=102,mask_zero=True))(inputs)\n",
        "\n",
        "# True: return all words along\n",
        "# False: only return the last one\n",
        "output = Bidirectional(GRU(32, return_sequences=True))(output)\n",
        "output = Dropout(0.2)(output)\n",
        "output = TimeDistributed(Dense(n_classes,activation='softmax'))(output)\n",
        "model = Model(inputs, output)\n",
        "model.compile(optimizer=Adam(lr=0.001),  loss='categorical_crossentropy', metrics=['categorical_accuracy'])\n",
        "\n",
        "model.summary()"
      ],
      "execution_count": null,
      "outputs": [
        {
          "output_type": "stream",
          "text": [
            "Model: \"model\"\n",
            "_________________________________________________________________\n",
            "Layer (type)                 Output Shape              Param #   \n",
            "=================================================================\n",
            "input_1 (InputLayer)         [(None, 102)]             0         \n",
            "_________________________________________________________________\n",
            "embedding (Embedding)        (None, 102, 32)           480608    \n",
            "_________________________________________________________________\n",
            "bidirectional (Bidirectional (None, 102, 64)           12672     \n",
            "_________________________________________________________________\n",
            "dropout (Dropout)            (None, 102, 64)           0         \n",
            "_________________________________________________________________\n",
            "time_distributed (TimeDistri (None, 102, 48)           3120      \n",
            "=================================================================\n",
            "Total params: 496,400\n",
            "Trainable params: 496,400\n",
            "Non-trainable params: 0\n",
            "_________________________________________________________________\n"
          ],
          "name": "stdout"
        }
      ]
    },
    {
      "cell_type": "code",
      "metadata": {
        "id": "Wo9Da8MThHQf",
        "colab": {
          "base_uri": "https://localhost:8080/"
        },
        "outputId": "524aa32c-3946-458e-c74a-fa5af5beb499"
      },
      "source": [
        "%%time\n",
        "model.fit(x_train,y_train,batch_size=64,epochs=10,verbose=1)"
      ],
      "execution_count": null,
      "outputs": [
        {
          "output_type": "stream",
          "text": [
            "Epoch 1/10\n",
            "290/290 [==============================] - 42s 121ms/step - loss: 0.3901 - categorical_accuracy: 0.4110\n",
            "Epoch 2/10\n",
            "290/290 [==============================] - 35s 121ms/step - loss: 0.0685 - categorical_accuracy: 0.8911\n",
            "Epoch 3/10\n",
            "290/290 [==============================] - 35s 121ms/step - loss: 0.0377 - categorical_accuracy: 0.9318\n",
            "Epoch 4/10\n",
            "290/290 [==============================] - 38s 130ms/step - loss: 0.0294 - categorical_accuracy: 0.9451\n",
            "Epoch 5/10\n",
            "290/290 [==============================] - 41s 141ms/step - loss: 0.0251 - categorical_accuracy: 0.9510\n",
            "Epoch 6/10\n",
            "290/290 [==============================] - 36s 123ms/step - loss: 0.0225 - categorical_accuracy: 0.9547\n",
            "Epoch 7/10\n",
            "290/290 [==============================] - 35s 122ms/step - loss: 0.0215 - categorical_accuracy: 0.9565\n",
            "Epoch 8/10\n",
            "290/290 [==============================] - 35s 122ms/step - loss: 0.0195 - categorical_accuracy: 0.9600\n",
            "Epoch 9/10\n",
            "290/290 [==============================] - 35s 122ms/step - loss: 0.0189 - categorical_accuracy: 0.9605\n",
            "Epoch 10/10\n",
            "290/290 [==============================] - 36s 123ms/step - loss: 0.0178 - categorical_accuracy: 0.9622\n",
            "CPU times: user 10min 37s, sys: 15.5 s, total: 10min 53s\n",
            "Wall time: 6min 9s\n"
          ],
          "name": "stdout"
        },
        {
          "output_type": "execute_result",
          "data": {
            "text/plain": [
              "<tensorflow.python.keras.callbacks.History at 0x7fed8fcd26a0>"
            ]
          },
          "metadata": {
            "tags": []
          },
          "execution_count": 22
        }
      ]
    },
    {
      "cell_type": "code",
      "metadata": {
        "id": "dxNuh3G8IHAt"
      },
      "source": [
        "model.save_weights('./data/model_no_crf.h5')\n",
        "# model.load_weights('model.h5')"
      ],
      "execution_count": null,
      "outputs": []
    },
    {
      "cell_type": "code",
      "metadata": {
        "id": "yusa214hhHQh",
        "colab": {
          "base_uri": "https://localhost:8080/"
        },
        "outputId": "975c0d6d-d270-4a06-8971-6b0f4e959016"
      },
      "source": [
        "%%time\n",
        "y_pred=model.predict(x_test)\n",
        "ypred = [outputToLabel(y_pred[i],len(y_test[i])) for i in range(len(y_pred))]"
      ],
      "execution_count": null,
      "outputs": [
        {
          "output_type": "stream",
          "text": [
            "CPU times: user 6.86 s, sys: 306 ms, total: 7.16 s\n",
            "Wall time: 4.97 s\n"
          ],
          "name": "stdout"
        }
      ]
    },
    {
      "cell_type": "code",
      "metadata": {
        "colab": {
          "base_uri": "https://localhost:8080/",
          "height": 1000
        },
        "id": "wcUM7Mq_IPUr",
        "outputId": "4bd27141-b97e-45c3-bcdb-4cea0583b13a"
      },
      "source": [
        "df_no_crf = evaluation_report(y_test, ypred)"
      ],
      "execution_count": null,
      "outputs": [
        {
          "output_type": "display_data",
          "data": {
            "text/html": [
              "<div>\n",
              "<style scoped>\n",
              "    .dataframe tbody tr th:only-of-type {\n",
              "        vertical-align: middle;\n",
              "    }\n",
              "\n",
              "    .dataframe tbody tr th {\n",
              "        vertical-align: top;\n",
              "    }\n",
              "\n",
              "    .dataframe thead th {\n",
              "        text-align: right;\n",
              "    }\n",
              "</style>\n",
              "<table border=\"1\" class=\"dataframe\">\n",
              "  <thead>\n",
              "    <tr style=\"text-align: right;\">\n",
              "      <th></th>\n",
              "      <th>tag</th>\n",
              "      <th>precision</th>\n",
              "      <th>recall</th>\n",
              "      <th>f_score</th>\n",
              "      <th>correct_count</th>\n",
              "    </tr>\n",
              "  </thead>\n",
              "  <tbody>\n",
              "    <tr>\n",
              "      <th>0</th>\n",
              "      <td>1</td>\n",
              "      <td>99.8639</td>\n",
              "      <td>99.5929</td>\n",
              "      <td>99.7283</td>\n",
              "      <td>3670</td>\n",
              "    </tr>\n",
              "    <tr>\n",
              "      <th>1</th>\n",
              "      <td>2</td>\n",
              "      <td>94.1458</td>\n",
              "      <td>95.3443</td>\n",
              "      <td>94.7413</td>\n",
              "      <td>7864</td>\n",
              "    </tr>\n",
              "    <tr>\n",
              "      <th>2</th>\n",
              "      <td>3</td>\n",
              "      <td>91.0252</td>\n",
              "      <td>96.625</td>\n",
              "      <td>93.7416</td>\n",
              "      <td>16319</td>\n",
              "    </tr>\n",
              "    <tr>\n",
              "      <th>3</th>\n",
              "      <td>4</td>\n",
              "      <td>99.9456</td>\n",
              "      <td>99.5357</td>\n",
              "      <td>99.7402</td>\n",
              "      <td>12862</td>\n",
              "    </tr>\n",
              "    <tr>\n",
              "      <th>4</th>\n",
              "      <td>5</td>\n",
              "      <td>100</td>\n",
              "      <td>98.5075</td>\n",
              "      <td>99.2481</td>\n",
              "      <td>66</td>\n",
              "    </tr>\n",
              "    <tr>\n",
              "      <th>5</th>\n",
              "      <td>6</td>\n",
              "      <td>99.7821</td>\n",
              "      <td>87.7395</td>\n",
              "      <td>93.3741</td>\n",
              "      <td>458</td>\n",
              "    </tr>\n",
              "    <tr>\n",
              "      <th>6</th>\n",
              "      <td>7</td>\n",
              "      <td>98.2893</td>\n",
              "      <td>96.7292</td>\n",
              "      <td>97.503</td>\n",
              "      <td>2011</td>\n",
              "    </tr>\n",
              "    <tr>\n",
              "      <th>7</th>\n",
              "      <td>8</td>\n",
              "      <td>64.8148</td>\n",
              "      <td>50.6024</td>\n",
              "      <td>56.8336</td>\n",
              "      <td>210</td>\n",
              "    </tr>\n",
              "    <tr>\n",
              "      <th>8</th>\n",
              "      <td>9</td>\n",
              "      <td>70.3822</td>\n",
              "      <td>60.0543</td>\n",
              "      <td>64.8094</td>\n",
              "      <td>221</td>\n",
              "    </tr>\n",
              "    <tr>\n",
              "      <th>9</th>\n",
              "      <td>10</td>\n",
              "      <td>63.7993</td>\n",
              "      <td>42.4315</td>\n",
              "      <td>50.9664</td>\n",
              "      <td>356</td>\n",
              "    </tr>\n",
              "    <tr>\n",
              "      <th>10</th>\n",
              "      <td>11</td>\n",
              "      <td>85.8586</td>\n",
              "      <td>98.8372</td>\n",
              "      <td>91.8919</td>\n",
              "      <td>85</td>\n",
              "    </tr>\n",
              "    <tr>\n",
              "      <th>11</th>\n",
              "      <td>12</td>\n",
              "      <td>97.5124</td>\n",
              "      <td>97.8777</td>\n",
              "      <td>97.6947</td>\n",
              "      <td>784</td>\n",
              "    </tr>\n",
              "    <tr>\n",
              "      <th>12</th>\n",
              "      <td>13</td>\n",
              "      <td>89.831</td>\n",
              "      <td>85.7819</td>\n",
              "      <td>87.7597</td>\n",
              "      <td>3083</td>\n",
              "    </tr>\n",
              "    <tr>\n",
              "      <th>13</th>\n",
              "      <td>14</td>\n",
              "      <td>94.6229</td>\n",
              "      <td>93.9333</td>\n",
              "      <td>94.2768</td>\n",
              "      <td>5156</td>\n",
              "    </tr>\n",
              "    <tr>\n",
              "      <th>14</th>\n",
              "      <td>15</td>\n",
              "      <td>81.7</td>\n",
              "      <td>72.8164</td>\n",
              "      <td>77.0028</td>\n",
              "      <td>817</td>\n",
              "    </tr>\n",
              "    <tr>\n",
              "      <th>15</th>\n",
              "      <td>16</td>\n",
              "      <td>89.2099</td>\n",
              "      <td>87.4271</td>\n",
              "      <td>88.3095</td>\n",
              "      <td>2100</td>\n",
              "    </tr>\n",
              "    <tr>\n",
              "      <th>16</th>\n",
              "      <td>17</td>\n",
              "      <td>97.2868</td>\n",
              "      <td>85.9589</td>\n",
              "      <td>91.2727</td>\n",
              "      <td>502</td>\n",
              "    </tr>\n",
              "    <tr>\n",
              "      <th>17</th>\n",
              "      <td>18</td>\n",
              "      <td>97.2835</td>\n",
              "      <td>99.2208</td>\n",
              "      <td>98.2426</td>\n",
              "      <td>1146</td>\n",
              "    </tr>\n",
              "    <tr>\n",
              "      <th>18</th>\n",
              "      <td>19</td>\n",
              "      <td>97.3451</td>\n",
              "      <td>95.6522</td>\n",
              "      <td>96.4912</td>\n",
              "      <td>330</td>\n",
              "    </tr>\n",
              "    <tr>\n",
              "      <th>19</th>\n",
              "      <td>20</td>\n",
              "      <td>98.2818</td>\n",
              "      <td>96.9492</td>\n",
              "      <td>97.6109</td>\n",
              "      <td>286</td>\n",
              "    </tr>\n",
              "    <tr>\n",
              "      <th>20</th>\n",
              "      <td>21</td>\n",
              "      <td>93.7169</td>\n",
              "      <td>93.5314</td>\n",
              "      <td>93.6241</td>\n",
              "      <td>1417</td>\n",
              "    </tr>\n",
              "    <tr>\n",
              "      <th>21</th>\n",
              "      <td>22</td>\n",
              "      <td>84.3318</td>\n",
              "      <td>79.9127</td>\n",
              "      <td>82.0628</td>\n",
              "      <td>1281</td>\n",
              "    </tr>\n",
              "    <tr>\n",
              "      <th>22</th>\n",
              "      <td>23</td>\n",
              "      <td>88.9251</td>\n",
              "      <td>96.7399</td>\n",
              "      <td>92.668</td>\n",
              "      <td>1365</td>\n",
              "    </tr>\n",
              "    <tr>\n",
              "      <th>23</th>\n",
              "      <td>24</td>\n",
              "      <td>89.1697</td>\n",
              "      <td>80.9836</td>\n",
              "      <td>84.8797</td>\n",
              "      <td>741</td>\n",
              "    </tr>\n",
              "    <tr>\n",
              "      <th>24</th>\n",
              "      <td>25</td>\n",
              "      <td>90.2913</td>\n",
              "      <td>67.5545</td>\n",
              "      <td>77.2853</td>\n",
              "      <td>279</td>\n",
              "    </tr>\n",
              "    <tr>\n",
              "      <th>25</th>\n",
              "      <td>26</td>\n",
              "      <td>90.6077</td>\n",
              "      <td>93.1818</td>\n",
              "      <td>91.8768</td>\n",
              "      <td>164</td>\n",
              "    </tr>\n",
              "    <tr>\n",
              "      <th>26</th>\n",
              "      <td>27</td>\n",
              "      <td>93.3333</td>\n",
              "      <td>74.8092</td>\n",
              "      <td>83.0508</td>\n",
              "      <td>98</td>\n",
              "    </tr>\n",
              "    <tr>\n",
              "      <th>27</th>\n",
              "      <td>29</td>\n",
              "      <td>93.5976</td>\n",
              "      <td>97.1519</td>\n",
              "      <td>95.3416</td>\n",
              "      <td>307</td>\n",
              "    </tr>\n",
              "    <tr>\n",
              "      <th>28</th>\n",
              "      <td>30</td>\n",
              "      <td>70.4762</td>\n",
              "      <td>72.549</td>\n",
              "      <td>71.4976</td>\n",
              "      <td>74</td>\n",
              "    </tr>\n",
              "    <tr>\n",
              "      <th>29</th>\n",
              "      <td>31</td>\n",
              "      <td>50.8876</td>\n",
              "      <td>83.4951</td>\n",
              "      <td>63.2353</td>\n",
              "      <td>86</td>\n",
              "    </tr>\n",
              "    <tr>\n",
              "      <th>30</th>\n",
              "      <td>32</td>\n",
              "      <td>81.1966</td>\n",
              "      <td>53.3708</td>\n",
              "      <td>64.4068</td>\n",
              "      <td>95</td>\n",
              "    </tr>\n",
              "    <tr>\n",
              "      <th>31</th>\n",
              "      <td>33</td>\n",
              "      <td>85.3659</td>\n",
              "      <td>51.4706</td>\n",
              "      <td>64.2202</td>\n",
              "      <td>35</td>\n",
              "    </tr>\n",
              "    <tr>\n",
              "      <th>32</th>\n",
              "      <td>34</td>\n",
              "      <td>88.586</td>\n",
              "      <td>92.5267</td>\n",
              "      <td>90.5135</td>\n",
              "      <td>520</td>\n",
              "    </tr>\n",
              "    <tr>\n",
              "      <th>33</th>\n",
              "      <td>35</td>\n",
              "      <td>83.3333</td>\n",
              "      <td>55.5556</td>\n",
              "      <td>66.6667</td>\n",
              "      <td>5</td>\n",
              "    </tr>\n",
              "    <tr>\n",
              "      <th>34</th>\n",
              "      <td>36</td>\n",
              "      <td>100</td>\n",
              "      <td>100</td>\n",
              "      <td>100</td>\n",
              "      <td>16</td>\n",
              "    </tr>\n",
              "    <tr>\n",
              "      <th>35</th>\n",
              "      <td>37</td>\n",
              "      <td>90.991</td>\n",
              "      <td>99.0196</td>\n",
              "      <td>94.8357</td>\n",
              "      <td>101</td>\n",
              "    </tr>\n",
              "    <tr>\n",
              "      <th>36</th>\n",
              "      <td>38</td>\n",
              "      <td>65.5172</td>\n",
              "      <td>48.7179</td>\n",
              "      <td>55.8824</td>\n",
              "      <td>19</td>\n",
              "    </tr>\n",
              "    <tr>\n",
              "      <th>37</th>\n",
              "      <td>39</td>\n",
              "      <td>73.2143</td>\n",
              "      <td>87.8571</td>\n",
              "      <td>79.8701</td>\n",
              "      <td>123</td>\n",
              "    </tr>\n",
              "    <tr>\n",
              "      <th>38</th>\n",
              "      <td>40</td>\n",
              "      <td>100</td>\n",
              "      <td>100</td>\n",
              "      <td>100</td>\n",
              "      <td>280</td>\n",
              "    </tr>\n",
              "    <tr>\n",
              "      <th>39</th>\n",
              "      <td>41</td>\n",
              "      <td>88.8889</td>\n",
              "      <td>80</td>\n",
              "      <td>84.2105</td>\n",
              "      <td>16</td>\n",
              "    </tr>\n",
              "    <tr>\n",
              "      <th>40</th>\n",
              "      <td>42</td>\n",
              "      <td>100</td>\n",
              "      <td>100</td>\n",
              "      <td>100</td>\n",
              "      <td>17</td>\n",
              "    </tr>\n",
              "    <tr>\n",
              "      <th>41</th>\n",
              "      <td>43</td>\n",
              "      <td>-</td>\n",
              "      <td>0</td>\n",
              "      <td>-</td>\n",
              "      <td>0</td>\n",
              "    </tr>\n",
              "    <tr>\n",
              "      <th>42</th>\n",
              "      <td>45</td>\n",
              "      <td>-</td>\n",
              "      <td>0</td>\n",
              "      <td>-</td>\n",
              "      <td>0</td>\n",
              "    </tr>\n",
              "    <tr>\n",
              "      <th>43</th>\n",
              "      <td>46</td>\n",
              "      <td>-</td>\n",
              "      <td>0</td>\n",
              "      <td>-</td>\n",
              "      <td>0</td>\n",
              "    </tr>\n",
              "    <tr>\n",
              "      <th>44</th>\n",
              "      <td>accuracy=93.33</td>\n",
              "      <td></td>\n",
              "      <td></td>\n",
              "      <td></td>\n",
              "      <td></td>\n",
              "    </tr>\n",
              "  </tbody>\n",
              "</table>\n",
              "</div>"
            ],
            "text/plain": [
              "               tag precision   recall  f_score correct_count\n",
              "0                1   99.8639  99.5929  99.7283          3670\n",
              "1                2   94.1458  95.3443  94.7413          7864\n",
              "2                3   91.0252   96.625  93.7416         16319\n",
              "3                4   99.9456  99.5357  99.7402         12862\n",
              "4                5       100  98.5075  99.2481            66\n",
              "5                6   99.7821  87.7395  93.3741           458\n",
              "6                7   98.2893  96.7292   97.503          2011\n",
              "7                8   64.8148  50.6024  56.8336           210\n",
              "8                9   70.3822  60.0543  64.8094           221\n",
              "9               10   63.7993  42.4315  50.9664           356\n",
              "10              11   85.8586  98.8372  91.8919            85\n",
              "11              12   97.5124  97.8777  97.6947           784\n",
              "12              13    89.831  85.7819  87.7597          3083\n",
              "13              14   94.6229  93.9333  94.2768          5156\n",
              "14              15      81.7  72.8164  77.0028           817\n",
              "15              16   89.2099  87.4271  88.3095          2100\n",
              "16              17   97.2868  85.9589  91.2727           502\n",
              "17              18   97.2835  99.2208  98.2426          1146\n",
              "18              19   97.3451  95.6522  96.4912           330\n",
              "19              20   98.2818  96.9492  97.6109           286\n",
              "20              21   93.7169  93.5314  93.6241          1417\n",
              "21              22   84.3318  79.9127  82.0628          1281\n",
              "22              23   88.9251  96.7399   92.668          1365\n",
              "23              24   89.1697  80.9836  84.8797           741\n",
              "24              25   90.2913  67.5545  77.2853           279\n",
              "25              26   90.6077  93.1818  91.8768           164\n",
              "26              27   93.3333  74.8092  83.0508            98\n",
              "27              29   93.5976  97.1519  95.3416           307\n",
              "28              30   70.4762   72.549  71.4976            74\n",
              "29              31   50.8876  83.4951  63.2353            86\n",
              "30              32   81.1966  53.3708  64.4068            95\n",
              "31              33   85.3659  51.4706  64.2202            35\n",
              "32              34    88.586  92.5267  90.5135           520\n",
              "33              35   83.3333  55.5556  66.6667             5\n",
              "34              36       100      100      100            16\n",
              "35              37    90.991  99.0196  94.8357           101\n",
              "36              38   65.5172  48.7179  55.8824            19\n",
              "37              39   73.2143  87.8571  79.8701           123\n",
              "38              40       100      100      100           280\n",
              "39              41   88.8889       80  84.2105            16\n",
              "40              42       100      100      100            17\n",
              "41              43         -        0        -             0\n",
              "42              45         -        0        -             0\n",
              "43              46         -        0        -             0\n",
              "44  accuracy=93.33                                          "
            ]
          },
          "metadata": {
            "tags": []
          }
        }
      ]
    },
    {
      "cell_type": "markdown",
      "metadata": {
        "id": "H0NKka14hHQw"
      },
      "source": [
        "## 4.2 CRF Viterbi"
      ]
    },
    {
      "cell_type": "markdown",
      "metadata": {
        "id": "ijd1rwTghHQx"
      },
      "source": [
        "Your next task is to incorporate Conditional random fields (CRF) to your model.\n",
        "\n",
        "To use the CRF layer, you need to use an extension repository for tensorflow library, call tf2crf. If you want to see the detailed implementation, you should read the official tensorflow extention of CRF (https://www.tensorflow.org/addons/api_docs/python/tfa/text).\n",
        "\n",
        "tf2crf link :  https://github.com/xuxingya/tf2crf\n",
        "\n",
        "For inference, you should look at crf.py at the method call and view the input/output argmunets. \n",
        "Link : https://github.com/xuxingya/tf2crf/blob/master/tf2crf/crf.py\n",
        "\n"
      ]
    },
    {
      "cell_type": "markdown",
      "metadata": {
        "id": "KuybajePhHQy"
      },
      "source": [
        "### 4.2.1 CRF without pretrained weight\n",
        "### #TODO 1\n",
        "Incoperate CRF layer to your model in 4.1. CRF is quite complex compare to previous example model, so you should train it with more epoch, so it can converge.\n",
        "\n",
        "To finish this excercise you must train the model and show the evaluation report with this model as shown in the example.\n",
        "\n",
        "Do not forget to save this model weight."
      ]
    },
    {
      "cell_type": "code",
      "metadata": {
        "id": "lEV0q1vAhHQy",
        "colab": {
          "base_uri": "https://localhost:8080/"
        },
        "outputId": "35a381f1-bb17-486b-e011-500e6baa272e"
      },
      "source": [
        "from tf2crf import CRF, ModelWithCRFLoss\n",
        "\n",
        "inputs = Input(shape=(102,), dtype='int32') \n",
        "print(f\"inputs shape: {inputs.shape}\")\n",
        "output = (Embedding(len(word_to_idx),32,input_length=102,mask_zero=True))(inputs)\n",
        "print(f\"Embedding shape: {output.shape}\")\n",
        "output = Bidirectional(GRU(32, return_sequences=True))(output)\n",
        "print(f\"Bidirectional shape: {output.shape}\")\n",
        "output = TimeDistributed(Dense(n_classes,activation=None))(output)\n",
        "print(f\"Dense shape: {output.shape}\")\n",
        "crf = CRF(dtype='float32')\n",
        "output = crf(output)\n",
        "\n",
        "base_model = Model(inputs, output)\n",
        "model_with_crf = ModelWithCRFLoss(base_model)\n",
        "model_with_crf.compile(optimizer=Adam(lr=0.001),  loss='categorical_crossentropy', metrics=['categorical_accuracy'])\n"
      ],
      "execution_count": null,
      "outputs": [
        {
          "output_type": "stream",
          "text": [
            "inputs shape: (None, 102)\n",
            "Embedding shape: (None, 102, 32)\n",
            "Bidirectional shape: (None, 102, 64)\n",
            "Dense shape: (None, 102, 48)\n"
          ],
          "name": "stdout"
        }
      ]
    },
    {
      "cell_type": "code",
      "metadata": {
        "id": "jtavmFoJ4X7V"
      },
      "source": [
        "y_train_p = np.zeros(x_train.shape, dtype=np.int32)\n",
        "\n",
        "for i in range(y_train.shape[0]):\n",
        "  for j in range(y_train.shape[1]):\n",
        "    y_train_p[i][j] = np.argmax(y_train[i][j])"
      ],
      "execution_count": null,
      "outputs": []
    },
    {
      "cell_type": "code",
      "metadata": {
        "id": "eX2J9PVFCxAG"
      },
      "source": [
        "del model_with_crf\n",
        "tf.keras.backend.clear_session()"
      ],
      "execution_count": null,
      "outputs": []
    },
    {
      "cell_type": "code",
      "metadata": {
        "colab": {
          "base_uri": "https://localhost:8080/"
        },
        "id": "w_Bq-beWSmEU",
        "outputId": "2c97bca1-7ca1-405e-fcde-3e4b8fff5574"
      },
      "source": [
        "model_with_crf.fit(x_train,y_train_p,batch_size=64,epochs=10,verbose=1)\n",
        "model_with_crf.summary()"
      ],
      "execution_count": null,
      "outputs": [
        {
          "output_type": "stream",
          "text": [
            "Epoch 1/10\n",
            "290/290 [==============================] - 94s 291ms/step - crf_loss: 25.4886 - accuracy: 0.5811\n",
            "Epoch 2/10\n",
            "290/290 [==============================] - 85s 293ms/step - crf_loss: 5.3164 - accuracy: 0.9124\n",
            "Epoch 3/10\n",
            "290/290 [==============================] - 85s 294ms/step - crf_loss: 3.2580 - accuracy: 0.9407\n",
            "Epoch 4/10\n",
            "290/290 [==============================] - 85s 294ms/step - crf_loss: 2.6321 - accuracy: 0.9507\n",
            "Epoch 5/10\n",
            "290/290 [==============================] - 86s 295ms/step - crf_loss: 2.2634 - accuracy: 0.9554\n",
            "Epoch 6/10\n",
            "290/290 [==============================] - 86s 296ms/step - crf_loss: 2.0514 - accuracy: 0.9582\n",
            "Epoch 7/10\n",
            "290/290 [==============================] - 86s 295ms/step - crf_loss: 1.9108 - accuracy: 0.9603\n",
            "Epoch 8/10\n",
            "290/290 [==============================] - 85s 292ms/step - crf_loss: 1.8148 - accuracy: 0.9623\n",
            "Epoch 9/10\n",
            "290/290 [==============================] - 85s 291ms/step - crf_loss: 1.7355 - accuracy: 0.9639\n",
            "Epoch 10/10\n",
            "290/290 [==============================] - 84s 291ms/step - crf_loss: 1.6173 - accuracy: 0.9654\n",
            "Model: \"model_with_crf_loss\"\n",
            "_________________________________________________________________\n",
            "Layer (type)                 Output Shape              Param #   \n",
            "=================================================================\n",
            "model (Functional)           ((None, 102), (None, 102, 498706    \n",
            "=================================================================\n",
            "Total params: 498,708\n",
            "Trainable params: 498,704\n",
            "Non-trainable params: 4\n",
            "_________________________________________________________________\n"
          ],
          "name": "stdout"
        }
      ]
    },
    {
      "cell_type": "code",
      "metadata": {
        "id": "gAGaiYby-w3d"
      },
      "source": [
        "model_with_crf.save_weights('./data/model_with_crf.h5')"
      ],
      "execution_count": null,
      "outputs": []
    },
    {
      "cell_type": "code",
      "metadata": {
        "id": "GUkYRxlm-7Kt",
        "colab": {
          "base_uri": "https://localhost:8080/"
        },
        "outputId": "0cdc6d0a-5289-4729-b077-e5941503822a"
      },
      "source": [
        "%%time \n",
        "y_pred=model_with_crf.predict(x_test)[1]\n",
        "ypred = [outputToLabel(y_pred[i],len(y_test[i])) for i in range(len(y_pred))]"
      ],
      "execution_count": null,
      "outputs": [
        {
          "output_type": "stream",
          "text": [
            "CPU times: user 17.3 s, sys: 1.32 s, total: 18.6 s\n",
            "Wall time: 11.4 s\n"
          ],
          "name": "stdout"
        }
      ]
    },
    {
      "cell_type": "code",
      "metadata": {
        "colab": {
          "base_uri": "https://localhost:8080/",
          "height": 1000
        },
        "id": "nEsUqVySIZTM",
        "outputId": "4bf08929-54ab-4297-9c16-3e93f559fbf2"
      },
      "source": [
        "df_crf = evaluation_report(y_test, ypred)"
      ],
      "execution_count": null,
      "outputs": [
        {
          "output_type": "display_data",
          "data": {
            "text/html": [
              "<div>\n",
              "<style scoped>\n",
              "    .dataframe tbody tr th:only-of-type {\n",
              "        vertical-align: middle;\n",
              "    }\n",
              "\n",
              "    .dataframe tbody tr th {\n",
              "        vertical-align: top;\n",
              "    }\n",
              "\n",
              "    .dataframe thead th {\n",
              "        text-align: right;\n",
              "    }\n",
              "</style>\n",
              "<table border=\"1\" class=\"dataframe\">\n",
              "  <thead>\n",
              "    <tr style=\"text-align: right;\">\n",
              "      <th></th>\n",
              "      <th>tag</th>\n",
              "      <th>precision</th>\n",
              "      <th>recall</th>\n",
              "      <th>f_score</th>\n",
              "      <th>correct_count</th>\n",
              "    </tr>\n",
              "  </thead>\n",
              "  <tbody>\n",
              "    <tr>\n",
              "      <th>0</th>\n",
              "      <td>1</td>\n",
              "      <td>99.8639</td>\n",
              "      <td>99.5929</td>\n",
              "      <td>99.7283</td>\n",
              "      <td>3670</td>\n",
              "    </tr>\n",
              "    <tr>\n",
              "      <th>1</th>\n",
              "      <td>2</td>\n",
              "      <td>94.7708</td>\n",
              "      <td>94.2653</td>\n",
              "      <td>94.5174</td>\n",
              "      <td>7775</td>\n",
              "    </tr>\n",
              "    <tr>\n",
              "      <th>2</th>\n",
              "      <td>3</td>\n",
              "      <td>90.9401</td>\n",
              "      <td>96.4</td>\n",
              "      <td>93.5905</td>\n",
              "      <td>16281</td>\n",
              "    </tr>\n",
              "    <tr>\n",
              "      <th>3</th>\n",
              "      <td>4</td>\n",
              "      <td>99.9689</td>\n",
              "      <td>99.644</td>\n",
              "      <td>99.8062</td>\n",
              "      <td>12876</td>\n",
              "    </tr>\n",
              "    <tr>\n",
              "      <th>4</th>\n",
              "      <td>5</td>\n",
              "      <td>95.6522</td>\n",
              "      <td>98.5075</td>\n",
              "      <td>97.0588</td>\n",
              "      <td>66</td>\n",
              "    </tr>\n",
              "    <tr>\n",
              "      <th>5</th>\n",
              "      <td>6</td>\n",
              "      <td>99.5662</td>\n",
              "      <td>87.931</td>\n",
              "      <td>93.3876</td>\n",
              "      <td>459</td>\n",
              "    </tr>\n",
              "    <tr>\n",
              "      <th>6</th>\n",
              "      <td>7</td>\n",
              "      <td>97.9651</td>\n",
              "      <td>97.2583</td>\n",
              "      <td>97.6104</td>\n",
              "      <td>2022</td>\n",
              "    </tr>\n",
              "    <tr>\n",
              "      <th>7</th>\n",
              "      <td>8</td>\n",
              "      <td>71.6511</td>\n",
              "      <td>55.4217</td>\n",
              "      <td>62.5</td>\n",
              "      <td>230</td>\n",
              "    </tr>\n",
              "    <tr>\n",
              "      <th>8</th>\n",
              "      <td>9</td>\n",
              "      <td>57.5</td>\n",
              "      <td>62.5</td>\n",
              "      <td>59.8958</td>\n",
              "      <td>230</td>\n",
              "    </tr>\n",
              "    <tr>\n",
              "      <th>9</th>\n",
              "      <td>10</td>\n",
              "      <td>63.3628</td>\n",
              "      <td>42.6698</td>\n",
              "      <td>50.9972</td>\n",
              "      <td>358</td>\n",
              "    </tr>\n",
              "    <tr>\n",
              "      <th>10</th>\n",
              "      <td>11</td>\n",
              "      <td>84.1584</td>\n",
              "      <td>98.8372</td>\n",
              "      <td>90.9091</td>\n",
              "      <td>85</td>\n",
              "    </tr>\n",
              "    <tr>\n",
              "      <th>11</th>\n",
              "      <td>12</td>\n",
              "      <td>97.0886</td>\n",
              "      <td>95.7553</td>\n",
              "      <td>96.4173</td>\n",
              "      <td>767</td>\n",
              "    </tr>\n",
              "    <tr>\n",
              "      <th>12</th>\n",
              "      <td>13</td>\n",
              "      <td>89.1597</td>\n",
              "      <td>86.5053</td>\n",
              "      <td>87.8125</td>\n",
              "      <td>3109</td>\n",
              "    </tr>\n",
              "    <tr>\n",
              "      <th>13</th>\n",
              "      <td>14</td>\n",
              "      <td>94.8225</td>\n",
              "      <td>93.4232</td>\n",
              "      <td>94.1176</td>\n",
              "      <td>5128</td>\n",
              "    </tr>\n",
              "    <tr>\n",
              "      <th>14</th>\n",
              "      <td>15</td>\n",
              "      <td>83.3157</td>\n",
              "      <td>70.3209</td>\n",
              "      <td>76.2687</td>\n",
              "      <td>789</td>\n",
              "    </tr>\n",
              "    <tr>\n",
              "      <th>15</th>\n",
              "      <td>16</td>\n",
              "      <td>87.6968</td>\n",
              "      <td>88.1349</td>\n",
              "      <td>87.9153</td>\n",
              "      <td>2117</td>\n",
              "    </tr>\n",
              "    <tr>\n",
              "      <th>16</th>\n",
              "      <td>17</td>\n",
              "      <td>97.4903</td>\n",
              "      <td>86.4726</td>\n",
              "      <td>91.6515</td>\n",
              "      <td>505</td>\n",
              "    </tr>\n",
              "    <tr>\n",
              "      <th>17</th>\n",
              "      <td>18</td>\n",
              "      <td>97.3684</td>\n",
              "      <td>99.3074</td>\n",
              "      <td>98.3283</td>\n",
              "      <td>1147</td>\n",
              "    </tr>\n",
              "    <tr>\n",
              "      <th>18</th>\n",
              "      <td>19</td>\n",
              "      <td>97.6331</td>\n",
              "      <td>95.6522</td>\n",
              "      <td>96.6325</td>\n",
              "      <td>330</td>\n",
              "    </tr>\n",
              "    <tr>\n",
              "      <th>19</th>\n",
              "      <td>20</td>\n",
              "      <td>97.9452</td>\n",
              "      <td>96.9492</td>\n",
              "      <td>97.4446</td>\n",
              "      <td>286</td>\n",
              "    </tr>\n",
              "    <tr>\n",
              "      <th>20</th>\n",
              "      <td>21</td>\n",
              "      <td>91.9974</td>\n",
              "      <td>93.3333</td>\n",
              "      <td>92.6606</td>\n",
              "      <td>1414</td>\n",
              "    </tr>\n",
              "    <tr>\n",
              "      <th>21</th>\n",
              "      <td>22</td>\n",
              "      <td>83.9973</td>\n",
              "      <td>78.9145</td>\n",
              "      <td>81.3766</td>\n",
              "      <td>1265</td>\n",
              "    </tr>\n",
              "    <tr>\n",
              "      <th>22</th>\n",
              "      <td>23</td>\n",
              "      <td>88.9987</td>\n",
              "      <td>95.7477</td>\n",
              "      <td>92.2499</td>\n",
              "      <td>1351</td>\n",
              "    </tr>\n",
              "    <tr>\n",
              "      <th>23</th>\n",
              "      <td>24</td>\n",
              "      <td>91.2888</td>\n",
              "      <td>83.6066</td>\n",
              "      <td>87.279</td>\n",
              "      <td>765</td>\n",
              "    </tr>\n",
              "    <tr>\n",
              "      <th>24</th>\n",
              "      <td>25</td>\n",
              "      <td>91.4557</td>\n",
              "      <td>69.9758</td>\n",
              "      <td>79.2867</td>\n",
              "      <td>289</td>\n",
              "    </tr>\n",
              "    <tr>\n",
              "      <th>25</th>\n",
              "      <td>26</td>\n",
              "      <td>94.0828</td>\n",
              "      <td>90.3409</td>\n",
              "      <td>92.1739</td>\n",
              "      <td>159</td>\n",
              "    </tr>\n",
              "    <tr>\n",
              "      <th>26</th>\n",
              "      <td>27</td>\n",
              "      <td>92.381</td>\n",
              "      <td>74.0458</td>\n",
              "      <td>82.2034</td>\n",
              "      <td>97</td>\n",
              "    </tr>\n",
              "    <tr>\n",
              "      <th>27</th>\n",
              "      <td>29</td>\n",
              "      <td>93.3131</td>\n",
              "      <td>97.1519</td>\n",
              "      <td>95.1938</td>\n",
              "      <td>307</td>\n",
              "    </tr>\n",
              "    <tr>\n",
              "      <th>28</th>\n",
              "      <td>30</td>\n",
              "      <td>70.6422</td>\n",
              "      <td>75.4902</td>\n",
              "      <td>72.9858</td>\n",
              "      <td>77</td>\n",
              "    </tr>\n",
              "    <tr>\n",
              "      <th>29</th>\n",
              "      <td>31</td>\n",
              "      <td>52.6667</td>\n",
              "      <td>76.699</td>\n",
              "      <td>62.4506</td>\n",
              "      <td>79</td>\n",
              "    </tr>\n",
              "    <tr>\n",
              "      <th>30</th>\n",
              "      <td>32</td>\n",
              "      <td>61.6279</td>\n",
              "      <td>59.5506</td>\n",
              "      <td>60.5714</td>\n",
              "      <td>106</td>\n",
              "    </tr>\n",
              "    <tr>\n",
              "      <th>31</th>\n",
              "      <td>33</td>\n",
              "      <td>83.3333</td>\n",
              "      <td>51.4706</td>\n",
              "      <td>63.6364</td>\n",
              "      <td>35</td>\n",
              "    </tr>\n",
              "    <tr>\n",
              "      <th>32</th>\n",
              "      <td>34</td>\n",
              "      <td>87.0748</td>\n",
              "      <td>91.1032</td>\n",
              "      <td>89.0435</td>\n",
              "      <td>512</td>\n",
              "    </tr>\n",
              "    <tr>\n",
              "      <th>33</th>\n",
              "      <td>35</td>\n",
              "      <td>55.5556</td>\n",
              "      <td>55.5556</td>\n",
              "      <td>55.5556</td>\n",
              "      <td>5</td>\n",
              "    </tr>\n",
              "    <tr>\n",
              "      <th>34</th>\n",
              "      <td>36</td>\n",
              "      <td>100</td>\n",
              "      <td>100</td>\n",
              "      <td>100</td>\n",
              "      <td>16</td>\n",
              "    </tr>\n",
              "    <tr>\n",
              "      <th>35</th>\n",
              "      <td>37</td>\n",
              "      <td>93.5185</td>\n",
              "      <td>99.0196</td>\n",
              "      <td>96.1905</td>\n",
              "      <td>101</td>\n",
              "    </tr>\n",
              "    <tr>\n",
              "      <th>36</th>\n",
              "      <td>38</td>\n",
              "      <td>48.8372</td>\n",
              "      <td>53.8462</td>\n",
              "      <td>51.2195</td>\n",
              "      <td>21</td>\n",
              "    </tr>\n",
              "    <tr>\n",
              "      <th>37</th>\n",
              "      <td>39</td>\n",
              "      <td>76.9737</td>\n",
              "      <td>83.5714</td>\n",
              "      <td>80.137</td>\n",
              "      <td>117</td>\n",
              "    </tr>\n",
              "    <tr>\n",
              "      <th>38</th>\n",
              "      <td>40</td>\n",
              "      <td>100</td>\n",
              "      <td>100</td>\n",
              "      <td>100</td>\n",
              "      <td>280</td>\n",
              "    </tr>\n",
              "    <tr>\n",
              "      <th>39</th>\n",
              "      <td>41</td>\n",
              "      <td>83.3333</td>\n",
              "      <td>75</td>\n",
              "      <td>78.9474</td>\n",
              "      <td>15</td>\n",
              "    </tr>\n",
              "    <tr>\n",
              "      <th>40</th>\n",
              "      <td>42</td>\n",
              "      <td>100</td>\n",
              "      <td>94.1176</td>\n",
              "      <td>96.9697</td>\n",
              "      <td>16</td>\n",
              "    </tr>\n",
              "    <tr>\n",
              "      <th>41</th>\n",
              "      <td>43</td>\n",
              "      <td>0</td>\n",
              "      <td>0</td>\n",
              "      <td>-</td>\n",
              "      <td>0</td>\n",
              "    </tr>\n",
              "    <tr>\n",
              "      <th>42</th>\n",
              "      <td>45</td>\n",
              "      <td>-</td>\n",
              "      <td>0</td>\n",
              "      <td>-</td>\n",
              "      <td>0</td>\n",
              "    </tr>\n",
              "    <tr>\n",
              "      <th>43</th>\n",
              "      <td>46</td>\n",
              "      <td>-</td>\n",
              "      <td>0</td>\n",
              "      <td>-</td>\n",
              "      <td>0</td>\n",
              "    </tr>\n",
              "    <tr>\n",
              "      <th>44</th>\n",
              "      <td>accuracy=93.17</td>\n",
              "      <td></td>\n",
              "      <td></td>\n",
              "      <td></td>\n",
              "      <td></td>\n",
              "    </tr>\n",
              "  </tbody>\n",
              "</table>\n",
              "</div>"
            ],
            "text/plain": [
              "               tag precision   recall  f_score correct_count\n",
              "0                1   99.8639  99.5929  99.7283          3670\n",
              "1                2   94.7708  94.2653  94.5174          7775\n",
              "2                3   90.9401     96.4  93.5905         16281\n",
              "3                4   99.9689   99.644  99.8062         12876\n",
              "4                5   95.6522  98.5075  97.0588            66\n",
              "5                6   99.5662   87.931  93.3876           459\n",
              "6                7   97.9651  97.2583  97.6104          2022\n",
              "7                8   71.6511  55.4217     62.5           230\n",
              "8                9      57.5     62.5  59.8958           230\n",
              "9               10   63.3628  42.6698  50.9972           358\n",
              "10              11   84.1584  98.8372  90.9091            85\n",
              "11              12   97.0886  95.7553  96.4173           767\n",
              "12              13   89.1597  86.5053  87.8125          3109\n",
              "13              14   94.8225  93.4232  94.1176          5128\n",
              "14              15   83.3157  70.3209  76.2687           789\n",
              "15              16   87.6968  88.1349  87.9153          2117\n",
              "16              17   97.4903  86.4726  91.6515           505\n",
              "17              18   97.3684  99.3074  98.3283          1147\n",
              "18              19   97.6331  95.6522  96.6325           330\n",
              "19              20   97.9452  96.9492  97.4446           286\n",
              "20              21   91.9974  93.3333  92.6606          1414\n",
              "21              22   83.9973  78.9145  81.3766          1265\n",
              "22              23   88.9987  95.7477  92.2499          1351\n",
              "23              24   91.2888  83.6066   87.279           765\n",
              "24              25   91.4557  69.9758  79.2867           289\n",
              "25              26   94.0828  90.3409  92.1739           159\n",
              "26              27    92.381  74.0458  82.2034            97\n",
              "27              29   93.3131  97.1519  95.1938           307\n",
              "28              30   70.6422  75.4902  72.9858            77\n",
              "29              31   52.6667   76.699  62.4506            79\n",
              "30              32   61.6279  59.5506  60.5714           106\n",
              "31              33   83.3333  51.4706  63.6364            35\n",
              "32              34   87.0748  91.1032  89.0435           512\n",
              "33              35   55.5556  55.5556  55.5556             5\n",
              "34              36       100      100      100            16\n",
              "35              37   93.5185  99.0196  96.1905           101\n",
              "36              38   48.8372  53.8462  51.2195            21\n",
              "37              39   76.9737  83.5714   80.137           117\n",
              "38              40       100      100      100           280\n",
              "39              41   83.3333       75  78.9474            15\n",
              "40              42       100  94.1176  96.9697            16\n",
              "41              43         0        0        -             0\n",
              "42              45         -        0        -             0\n",
              "43              46         -        0        -             0\n",
              "44  accuracy=93.17                                          "
            ]
          },
          "metadata": {
            "tags": []
          }
        }
      ]
    },
    {
      "cell_type": "markdown",
      "metadata": {
        "id": "qOnHO-__kj7T"
      },
      "source": [
        "\n",
        "### 4.2.2 CRF with pretrained weight\n",
        "\n",
        "### #TODO 2\n",
        "\n",
        "We would like you create a neural CRF POS tagger model  with the pretrained word embedding as an input and the word embedding is trainable (not fixed). To finish this excercise you must train the model and show the evaluation report with this model as shown in the example.\n",
        "\n",
        "Please note that the given pretrained word embedding only have weights for the vocabuary in BEST corpus.\n",
        "\n",
        "Optionally, you can use your own pretrained word embedding.\n",
        "\n",
        "#### Hint: You can get the embedding from get_embeddings function from embeddings/emb_reader.py . \n",
        "\n",
        "(You may want to read about Tensorflow Masking layer and Trainable parameter)"
      ]
    },
    {
      "cell_type": "code",
      "metadata": {
        "id": "KVBAv3a9kanH",
        "colab": {
          "base_uri": "https://localhost:8080/"
        },
        "outputId": "cba4990d-b2ad-473c-80c0-e4c278090c32"
      },
      "source": [
        "from embeddings.emb_reader import get_embeddings\n",
        "\n",
        "pretrained = get_embeddings()\n",
        "print(pretrained['การ'].shape)\n",
        "print(pretrained['ประชุม'].shape)\n",
        "print(pretrained['ทาง'].shape)"
      ],
      "execution_count": null,
      "outputs": [
        {
          "output_type": "stream",
          "text": [
            "(64,)\n",
            "(64,)\n",
            "(64,)\n"
          ],
          "name": "stdout"
        }
      ]
    },
    {
      "cell_type": "code",
      "metadata": {
        "colab": {
          "base_uri": "https://localhost:8080/"
        },
        "id": "v5uRNhSCLIqd",
        "outputId": "c51be2c6-fd85-4583-bf9c-756b7f6b7f1a"
      },
      "source": [
        "custom_emb = np.zeros((len(word_to_idx), 64))\n",
        "custom_emb.shape"
      ],
      "execution_count": null,
      "outputs": [
        {
          "output_type": "execute_result",
          "data": {
            "text/plain": [
              "(15019, 64)"
            ]
          },
          "metadata": {
            "tags": []
          },
          "execution_count": 75
        }
      ]
    },
    {
      "cell_type": "code",
      "metadata": {
        "colab": {
          "base_uri": "https://localhost:8080/"
        },
        "id": "B7TLdOQKRHhs",
        "outputId": "33e341ba-fb66-4094-8bc4-d81b06c28257"
      },
      "source": [
        "for word, idx in word_to_idx.items():\n",
        "  if word in pretrained.keys(): # word exists in pretrained embedding\n",
        "    custom_emb[idx] = pretrained[word]\n",
        "custom_emb[1]"
      ],
      "execution_count": null,
      "outputs": [
        {
          "output_type": "execute_result",
          "data": {
            "text/plain": [
              "array([ 0.14022678,  0.09092573, -0.17903189,  0.10448399,  0.00299431,\n",
              "        0.2409007 ,  0.1816121 , -0.04165503, -0.06544363,  0.05947479,\n",
              "        0.04661421, -0.33226913, -0.06150463, -0.1317102 , -0.07574838,\n",
              "        0.02249195,  0.07715735,  0.04643886, -0.17077078,  0.1182287 ,\n",
              "       -0.04673801, -0.08885621, -0.00981161, -0.10771678,  0.02951091,\n",
              "        0.09110227, -0.00879415,  0.06625252,  0.07654156,  0.09935185,\n",
              "       -0.01619297, -0.08740353, -0.09052251,  0.21771173,  0.11034786,\n",
              "        0.03606765,  0.23416947,  0.12849383, -0.18925685, -0.00396164,\n",
              "        0.25828162, -0.07934788, -0.10694123,  0.21466669, -0.12551983,\n",
              "        0.17596188,  0.1115311 ,  0.1988364 ,  0.16058449,  0.12886152,\n",
              "       -0.18652754, -0.11023001, -0.17567527, -0.01010482, -0.09603874,\n",
              "        0.052766  , -0.11988053,  0.17181544, -0.03366903,  0.17951967,\n",
              "        0.17481324,  0.01515466,  0.05193159, -0.17966549])"
            ]
          },
          "metadata": {
            "tags": []
          },
          "execution_count": 78
        }
      ]
    },
    {
      "cell_type": "code",
      "metadata": {
        "colab": {
          "base_uri": "https://localhost:8080/"
        },
        "id": "I2nyGOC7Svxp",
        "outputId": "cddf71f8-61c8-4640-bb85-12cb66640fb1"
      },
      "source": [
        "from tensorflow.keras.initializers import Constant\n",
        "\n",
        "inputs = Input(shape=(102,), dtype='int32') \n",
        "print(f\"inputs shape: {inputs.shape}\")\n",
        "output = (Embedding(len(word_to_idx),64,input_length=102,mask_zero=True,embeddings_initializer=Constant(custom_emb),trainable=True))(inputs)\n",
        "print(f\"Embedding shape: {output.shape}\")\n",
        "output = Bidirectional(GRU(32, return_sequences=True))(output)\n",
        "print(f\"Bidirectional shape: {output.shape}\")\n",
        "output = TimeDistributed(Dense(n_classes,activation=None))(output)\n",
        "print(f\"Dense shape: {output.shape}\")\n",
        "crf = CRF(dtype='float32')\n",
        "output = crf(output)\n",
        "\n",
        "base_model = Model(inputs, output)\n",
        "model_pretrained = ModelWithCRFLoss(base_model)\n",
        "model_pretrained.compile(optimizer=Adam(lr=0.001),  loss='categorical_crossentropy', metrics=['categorical_accuracy'])"
      ],
      "execution_count": null,
      "outputs": [
        {
          "output_type": "stream",
          "text": [
            "inputs shape: (None, 102)\n",
            "Embedding shape: (None, 102, 64)\n",
            "Bidirectional shape: (None, 102, 64)\n",
            "Dense shape: (None, 102, 48)\n"
          ],
          "name": "stdout"
        }
      ]
    },
    {
      "cell_type": "code",
      "metadata": {
        "colab": {
          "base_uri": "https://localhost:8080/"
        },
        "id": "Mx4S7ejqVMkh",
        "outputId": "a77bc45b-b7aa-4795-ed23-5d8200825e3e"
      },
      "source": [
        "model_pretrained.fit(x_train,y_train_p,batch_size=64,epochs=10,verbose=1)"
      ],
      "execution_count": null,
      "outputs": [
        {
          "output_type": "stream",
          "text": [
            "Epoch 1/10\n",
            "290/290 [==============================] - 99s 308ms/step - crf_loss: 21.3707 - accuracy: 0.6451\n",
            "Epoch 2/10\n",
            "290/290 [==============================] - 89s 309ms/step - crf_loss: 4.4771 - accuracy: 0.9240\n",
            "Epoch 3/10\n",
            "290/290 [==============================] - 90s 309ms/step - crf_loss: 2.8577 - accuracy: 0.9465\n",
            "Epoch 4/10\n",
            "290/290 [==============================] - 90s 309ms/step - crf_loss: 2.3350 - accuracy: 0.9547\n",
            "Epoch 5/10\n",
            "290/290 [==============================] - 90s 309ms/step - crf_loss: 2.0679 - accuracy: 0.9584\n",
            "Epoch 6/10\n",
            "290/290 [==============================] - 90s 311ms/step - crf_loss: 1.8659 - accuracy: 0.9612\n",
            "Epoch 7/10\n",
            "290/290 [==============================] - 90s 310ms/step - crf_loss: 1.7539 - accuracy: 0.9632\n",
            "Epoch 8/10\n",
            "290/290 [==============================] - 90s 310ms/step - crf_loss: 1.6595 - accuracy: 0.9650\n",
            "Epoch 9/10\n",
            "290/290 [==============================] - 91s 312ms/step - crf_loss: 1.5450 - accuracy: 0.9666\n",
            "Epoch 10/10\n",
            "290/290 [==============================] - 92s 316ms/step - crf_loss: 1.4623 - accuracy: 0.9685\n"
          ],
          "name": "stdout"
        },
        {
          "output_type": "execute_result",
          "data": {
            "text/plain": [
              "<tensorflow.python.keras.callbacks.History at 0x7feda5f70438>"
            ]
          },
          "metadata": {
            "tags": []
          },
          "execution_count": 80
        }
      ]
    },
    {
      "cell_type": "code",
      "metadata": {
        "id": "X-_3q0P9WenY"
      },
      "source": [
        "# del model_pretrained\n",
        "# tf.keras.backend.clear_session()"
      ],
      "execution_count": null,
      "outputs": []
    },
    {
      "cell_type": "code",
      "metadata": {
        "id": "61FXSFdmbNVo"
      },
      "source": [
        "model_pretrained.save_weights('./data/model_pretrained.h5')"
      ],
      "execution_count": null,
      "outputs": []
    },
    {
      "cell_type": "code",
      "metadata": {
        "colab": {
          "base_uri": "https://localhost:8080/"
        },
        "id": "AkXFPTbcV4Vc",
        "outputId": "e39129fa-ae61-4465-a762-463e2539038e"
      },
      "source": [
        "%%time \n",
        "y_pred=model_pretrained.predict(x_test)[1]\n",
        "ypred = [outputToLabel(y_pred[i],len(y_test[i])) for i in range(len(y_pred))]"
      ],
      "execution_count": null,
      "outputs": [
        {
          "output_type": "stream",
          "text": [
            "CPU times: user 18 s, sys: 994 ms, total: 19 s\n",
            "Wall time: 11.5 s\n"
          ],
          "name": "stdout"
        }
      ]
    },
    {
      "cell_type": "code",
      "metadata": {
        "colab": {
          "base_uri": "https://localhost:8080/",
          "height": 1000
        },
        "id": "26uVZ0WdXN44",
        "outputId": "4f862b95-5b6a-4cb4-81fe-600afec1134e"
      },
      "source": [
        "df_pretrained = evaluation_report(y_test, ypred)"
      ],
      "execution_count": null,
      "outputs": [
        {
          "output_type": "display_data",
          "data": {
            "text/html": [
              "<div>\n",
              "<style scoped>\n",
              "    .dataframe tbody tr th:only-of-type {\n",
              "        vertical-align: middle;\n",
              "    }\n",
              "\n",
              "    .dataframe tbody tr th {\n",
              "        vertical-align: top;\n",
              "    }\n",
              "\n",
              "    .dataframe thead th {\n",
              "        text-align: right;\n",
              "    }\n",
              "</style>\n",
              "<table border=\"1\" class=\"dataframe\">\n",
              "  <thead>\n",
              "    <tr style=\"text-align: right;\">\n",
              "      <th></th>\n",
              "      <th>tag</th>\n",
              "      <th>precision</th>\n",
              "      <th>recall</th>\n",
              "      <th>f_score</th>\n",
              "      <th>correct_count</th>\n",
              "    </tr>\n",
              "  </thead>\n",
              "  <tbody>\n",
              "    <tr>\n",
              "      <th>0</th>\n",
              "      <td>1</td>\n",
              "      <td>99.8911</td>\n",
              "      <td>99.5929</td>\n",
              "      <td>99.7418</td>\n",
              "      <td>3670</td>\n",
              "    </tr>\n",
              "    <tr>\n",
              "      <th>1</th>\n",
              "      <td>2</td>\n",
              "      <td>94.2392</td>\n",
              "      <td>94.0107</td>\n",
              "      <td>94.1248</td>\n",
              "      <td>7754</td>\n",
              "    </tr>\n",
              "    <tr>\n",
              "      <th>2</th>\n",
              "      <td>3</td>\n",
              "      <td>90.6862</td>\n",
              "      <td>96.1632</td>\n",
              "      <td>93.3444</td>\n",
              "      <td>16241</td>\n",
              "    </tr>\n",
              "    <tr>\n",
              "      <th>3</th>\n",
              "      <td>4</td>\n",
              "      <td>99.9379</td>\n",
              "      <td>99.644</td>\n",
              "      <td>99.7907</td>\n",
              "      <td>12876</td>\n",
              "    </tr>\n",
              "    <tr>\n",
              "      <th>4</th>\n",
              "      <td>5</td>\n",
              "      <td>84.6154</td>\n",
              "      <td>98.5075</td>\n",
              "      <td>91.0345</td>\n",
              "      <td>66</td>\n",
              "    </tr>\n",
              "    <tr>\n",
              "      <th>5</th>\n",
              "      <td>6</td>\n",
              "      <td>98.9293</td>\n",
              "      <td>88.5057</td>\n",
              "      <td>93.4277</td>\n",
              "      <td>462</td>\n",
              "    </tr>\n",
              "    <tr>\n",
              "      <th>6</th>\n",
              "      <td>7</td>\n",
              "      <td>97.4446</td>\n",
              "      <td>97.2102</td>\n",
              "      <td>97.3272</td>\n",
              "      <td>2021</td>\n",
              "    </tr>\n",
              "    <tr>\n",
              "      <th>7</th>\n",
              "      <td>8</td>\n",
              "      <td>72.8707</td>\n",
              "      <td>55.6627</td>\n",
              "      <td>63.1148</td>\n",
              "      <td>231</td>\n",
              "    </tr>\n",
              "    <tr>\n",
              "      <th>8</th>\n",
              "      <td>9</td>\n",
              "      <td>66.25</td>\n",
              "      <td>57.6087</td>\n",
              "      <td>61.6279</td>\n",
              "      <td>212</td>\n",
              "    </tr>\n",
              "    <tr>\n",
              "      <th>9</th>\n",
              "      <td>10</td>\n",
              "      <td>60.7664</td>\n",
              "      <td>39.6901</td>\n",
              "      <td>48.0173</td>\n",
              "      <td>333</td>\n",
              "    </tr>\n",
              "    <tr>\n",
              "      <th>10</th>\n",
              "      <td>11</td>\n",
              "      <td>82.6923</td>\n",
              "      <td>100</td>\n",
              "      <td>90.5263</td>\n",
              "      <td>86</td>\n",
              "    </tr>\n",
              "    <tr>\n",
              "      <th>11</th>\n",
              "      <td>12</td>\n",
              "      <td>96.328</td>\n",
              "      <td>98.2522</td>\n",
              "      <td>97.2806</td>\n",
              "      <td>787</td>\n",
              "    </tr>\n",
              "    <tr>\n",
              "      <th>12</th>\n",
              "      <td>13</td>\n",
              "      <td>88.6931</td>\n",
              "      <td>84.0289</td>\n",
              "      <td>86.298</td>\n",
              "      <td>3020</td>\n",
              "    </tr>\n",
              "    <tr>\n",
              "      <th>13</th>\n",
              "      <td>14</td>\n",
              "      <td>93.8576</td>\n",
              "      <td>94.3706</td>\n",
              "      <td>94.1134</td>\n",
              "      <td>5180</td>\n",
              "    </tr>\n",
              "    <tr>\n",
              "      <th>14</th>\n",
              "      <td>15</td>\n",
              "      <td>83.2797</td>\n",
              "      <td>69.2513</td>\n",
              "      <td>75.6204</td>\n",
              "      <td>777</td>\n",
              "    </tr>\n",
              "    <tr>\n",
              "      <th>15</th>\n",
              "      <td>16</td>\n",
              "      <td>88.1883</td>\n",
              "      <td>87.3439</td>\n",
              "      <td>87.7641</td>\n",
              "      <td>2098</td>\n",
              "    </tr>\n",
              "    <tr>\n",
              "      <th>16</th>\n",
              "      <td>17</td>\n",
              "      <td>97.3881</td>\n",
              "      <td>89.3836</td>\n",
              "      <td>93.2143</td>\n",
              "      <td>522</td>\n",
              "    </tr>\n",
              "    <tr>\n",
              "      <th>17</th>\n",
              "      <td>18</td>\n",
              "      <td>96.875</td>\n",
              "      <td>99.3074</td>\n",
              "      <td>98.0761</td>\n",
              "      <td>1147</td>\n",
              "    </tr>\n",
              "    <tr>\n",
              "      <th>18</th>\n",
              "      <td>19</td>\n",
              "      <td>97.9351</td>\n",
              "      <td>96.2319</td>\n",
              "      <td>97.076</td>\n",
              "      <td>332</td>\n",
              "    </tr>\n",
              "    <tr>\n",
              "      <th>19</th>\n",
              "      <td>20</td>\n",
              "      <td>97.9452</td>\n",
              "      <td>96.9492</td>\n",
              "      <td>97.4446</td>\n",
              "      <td>286</td>\n",
              "    </tr>\n",
              "    <tr>\n",
              "      <th>20</th>\n",
              "      <td>21</td>\n",
              "      <td>94.2282</td>\n",
              "      <td>92.6733</td>\n",
              "      <td>93.4443</td>\n",
              "      <td>1404</td>\n",
              "    </tr>\n",
              "    <tr>\n",
              "      <th>21</th>\n",
              "      <td>22</td>\n",
              "      <td>83.7425</td>\n",
              "      <td>78.7274</td>\n",
              "      <td>81.1576</td>\n",
              "      <td>1262</td>\n",
              "    </tr>\n",
              "    <tr>\n",
              "      <th>22</th>\n",
              "      <td>23</td>\n",
              "      <td>88.8669</td>\n",
              "      <td>95.606</td>\n",
              "      <td>92.1133</td>\n",
              "      <td>1349</td>\n",
              "    </tr>\n",
              "    <tr>\n",
              "      <th>23</th>\n",
              "      <td>24</td>\n",
              "      <td>90.2635</td>\n",
              "      <td>86.1202</td>\n",
              "      <td>88.1432</td>\n",
              "      <td>788</td>\n",
              "    </tr>\n",
              "    <tr>\n",
              "      <th>24</th>\n",
              "      <td>25</td>\n",
              "      <td>87.3239</td>\n",
              "      <td>75.0605</td>\n",
              "      <td>80.7292</td>\n",
              "      <td>310</td>\n",
              "    </tr>\n",
              "    <tr>\n",
              "      <th>25</th>\n",
              "      <td>26</td>\n",
              "      <td>96.4706</td>\n",
              "      <td>93.1818</td>\n",
              "      <td>94.7977</td>\n",
              "      <td>164</td>\n",
              "    </tr>\n",
              "    <tr>\n",
              "      <th>26</th>\n",
              "      <td>27</td>\n",
              "      <td>90.7563</td>\n",
              "      <td>82.4427</td>\n",
              "      <td>86.4</td>\n",
              "      <td>108</td>\n",
              "    </tr>\n",
              "    <tr>\n",
              "      <th>27</th>\n",
              "      <td>29</td>\n",
              "      <td>96.519</td>\n",
              "      <td>96.519</td>\n",
              "      <td>96.519</td>\n",
              "      <td>305</td>\n",
              "    </tr>\n",
              "    <tr>\n",
              "      <th>28</th>\n",
              "      <td>30</td>\n",
              "      <td>73.7864</td>\n",
              "      <td>74.5098</td>\n",
              "      <td>74.1463</td>\n",
              "      <td>76</td>\n",
              "    </tr>\n",
              "    <tr>\n",
              "      <th>29</th>\n",
              "      <td>31</td>\n",
              "      <td>60.1351</td>\n",
              "      <td>86.4078</td>\n",
              "      <td>70.9163</td>\n",
              "      <td>89</td>\n",
              "    </tr>\n",
              "    <tr>\n",
              "      <th>30</th>\n",
              "      <td>32</td>\n",
              "      <td>62.3529</td>\n",
              "      <td>59.5506</td>\n",
              "      <td>60.9195</td>\n",
              "      <td>106</td>\n",
              "    </tr>\n",
              "    <tr>\n",
              "      <th>31</th>\n",
              "      <td>33</td>\n",
              "      <td>94.5946</td>\n",
              "      <td>51.4706</td>\n",
              "      <td>66.6667</td>\n",
              "      <td>35</td>\n",
              "    </tr>\n",
              "    <tr>\n",
              "      <th>32</th>\n",
              "      <td>34</td>\n",
              "      <td>89.5105</td>\n",
              "      <td>91.1032</td>\n",
              "      <td>90.2998</td>\n",
              "      <td>512</td>\n",
              "    </tr>\n",
              "    <tr>\n",
              "      <th>33</th>\n",
              "      <td>35</td>\n",
              "      <td>38.4615</td>\n",
              "      <td>55.5556</td>\n",
              "      <td>45.4545</td>\n",
              "      <td>5</td>\n",
              "    </tr>\n",
              "    <tr>\n",
              "      <th>34</th>\n",
              "      <td>36</td>\n",
              "      <td>100</td>\n",
              "      <td>93.75</td>\n",
              "      <td>96.7742</td>\n",
              "      <td>15</td>\n",
              "    </tr>\n",
              "    <tr>\n",
              "      <th>35</th>\n",
              "      <td>37</td>\n",
              "      <td>90.1786</td>\n",
              "      <td>99.0196</td>\n",
              "      <td>94.3925</td>\n",
              "      <td>101</td>\n",
              "    </tr>\n",
              "    <tr>\n",
              "      <th>36</th>\n",
              "      <td>38</td>\n",
              "      <td>60</td>\n",
              "      <td>53.8462</td>\n",
              "      <td>56.7568</td>\n",
              "      <td>21</td>\n",
              "    </tr>\n",
              "    <tr>\n",
              "      <th>37</th>\n",
              "      <td>39</td>\n",
              "      <td>76.7296</td>\n",
              "      <td>87.1429</td>\n",
              "      <td>81.6054</td>\n",
              "      <td>122</td>\n",
              "    </tr>\n",
              "    <tr>\n",
              "      <th>38</th>\n",
              "      <td>40</td>\n",
              "      <td>100</td>\n",
              "      <td>100</td>\n",
              "      <td>100</td>\n",
              "      <td>280</td>\n",
              "    </tr>\n",
              "    <tr>\n",
              "      <th>39</th>\n",
              "      <td>41</td>\n",
              "      <td>69.5652</td>\n",
              "      <td>80</td>\n",
              "      <td>74.4186</td>\n",
              "      <td>16</td>\n",
              "    </tr>\n",
              "    <tr>\n",
              "      <th>40</th>\n",
              "      <td>42</td>\n",
              "      <td>100</td>\n",
              "      <td>70.5882</td>\n",
              "      <td>82.7586</td>\n",
              "      <td>12</td>\n",
              "    </tr>\n",
              "    <tr>\n",
              "      <th>41</th>\n",
              "      <td>43</td>\n",
              "      <td>0</td>\n",
              "      <td>0</td>\n",
              "      <td>-</td>\n",
              "      <td>0</td>\n",
              "    </tr>\n",
              "    <tr>\n",
              "      <th>42</th>\n",
              "      <td>45</td>\n",
              "      <td>-</td>\n",
              "      <td>0</td>\n",
              "      <td>-</td>\n",
              "      <td>0</td>\n",
              "    </tr>\n",
              "    <tr>\n",
              "      <th>43</th>\n",
              "      <td>46</td>\n",
              "      <td>-</td>\n",
              "      <td>0</td>\n",
              "      <td>-</td>\n",
              "      <td>0</td>\n",
              "    </tr>\n",
              "    <tr>\n",
              "      <th>44</th>\n",
              "      <td>accuracy=93.07</td>\n",
              "      <td></td>\n",
              "      <td></td>\n",
              "      <td></td>\n",
              "      <td></td>\n",
              "    </tr>\n",
              "  </tbody>\n",
              "</table>\n",
              "</div>"
            ],
            "text/plain": [
              "               tag precision   recall  f_score correct_count\n",
              "0                1   99.8911  99.5929  99.7418          3670\n",
              "1                2   94.2392  94.0107  94.1248          7754\n",
              "2                3   90.6862  96.1632  93.3444         16241\n",
              "3                4   99.9379   99.644  99.7907         12876\n",
              "4                5   84.6154  98.5075  91.0345            66\n",
              "5                6   98.9293  88.5057  93.4277           462\n",
              "6                7   97.4446  97.2102  97.3272          2021\n",
              "7                8   72.8707  55.6627  63.1148           231\n",
              "8                9     66.25  57.6087  61.6279           212\n",
              "9               10   60.7664  39.6901  48.0173           333\n",
              "10              11   82.6923      100  90.5263            86\n",
              "11              12    96.328  98.2522  97.2806           787\n",
              "12              13   88.6931  84.0289   86.298          3020\n",
              "13              14   93.8576  94.3706  94.1134          5180\n",
              "14              15   83.2797  69.2513  75.6204           777\n",
              "15              16   88.1883  87.3439  87.7641          2098\n",
              "16              17   97.3881  89.3836  93.2143           522\n",
              "17              18    96.875  99.3074  98.0761          1147\n",
              "18              19   97.9351  96.2319   97.076           332\n",
              "19              20   97.9452  96.9492  97.4446           286\n",
              "20              21   94.2282  92.6733  93.4443          1404\n",
              "21              22   83.7425  78.7274  81.1576          1262\n",
              "22              23   88.8669   95.606  92.1133          1349\n",
              "23              24   90.2635  86.1202  88.1432           788\n",
              "24              25   87.3239  75.0605  80.7292           310\n",
              "25              26   96.4706  93.1818  94.7977           164\n",
              "26              27   90.7563  82.4427     86.4           108\n",
              "27              29    96.519   96.519   96.519           305\n",
              "28              30   73.7864  74.5098  74.1463            76\n",
              "29              31   60.1351  86.4078  70.9163            89\n",
              "30              32   62.3529  59.5506  60.9195           106\n",
              "31              33   94.5946  51.4706  66.6667            35\n",
              "32              34   89.5105  91.1032  90.2998           512\n",
              "33              35   38.4615  55.5556  45.4545             5\n",
              "34              36       100    93.75  96.7742            15\n",
              "35              37   90.1786  99.0196  94.3925           101\n",
              "36              38        60  53.8462  56.7568            21\n",
              "37              39   76.7296  87.1429  81.6054           122\n",
              "38              40       100      100      100           280\n",
              "39              41   69.5652       80  74.4186            16\n",
              "40              42       100  70.5882  82.7586            12\n",
              "41              43         0        0        -             0\n",
              "42              45         -        0        -             0\n",
              "43              46         -        0        -             0\n",
              "44  accuracy=93.07                                          "
            ]
          },
          "metadata": {
            "tags": []
          }
        }
      ]
    },
    {
      "cell_type": "markdown",
      "metadata": {
        "id": "BYX749sbkzA-"
      },
      "source": [
        "### #TODO 3\n",
        "Compare the result between all neural tagger models in 4.1 and 4.2.x and provide a convincing reason and example for the result of these models (which model perform better, why?)\n",
        "\n",
        "(If you use your own weight please state so in the answer)"
      ]
    },
    {
      "cell_type": "markdown",
      "metadata": {
        "id": "QJKtOsoRhHQv"
      },
      "source": [
        "<b>Write your answer here :</b>\n",
        "\n",
        "# Summary\n",
        "\n",
        "All trained with batch size=64, epoch=10\n",
        "\n",
        "```\n",
        "|          | Neural | Neural+CRF | Neural+CRF+pretrained |\n",
        "|:--------:|:------:|:----------:|:---------------------:|\n",
        "| Accuracy |  93.33 |    93.17   |         93.07         |\n",
        "|   Speed  |  4.97s |    11.4s   |         11.5s         |\n",
        "```\n",
        "\n",
        "# Bar chart summary \n",
        "\n",
        "## Neural\n",
        "\n",
        "Performed better than other models in labeling: EITT, CFQC, PNTR and ADVI tags\n",
        "\n",
        "## Neural + CRF\n",
        "\n",
        "Does not really perform well in any particular tags compared to other models\n",
        "\n",
        "## Neural + CRF + Pretrained weights\n",
        "\n",
        "Performed better than other models in labeling: DDAN and ADVP"
      ]
    },
    {
      "cell_type": "code",
      "metadata": {
        "id": "AldhMQTVcWTW"
      },
      "source": [
        "idx_to_label_ls = []\n",
        "for label, idx in label_to_idx.items():\n",
        "  idx_to_label_ls.append((idx, label))"
      ],
      "execution_count": 131,
      "outputs": []
    },
    {
      "cell_type": "code",
      "metadata": {
        "id": "h0JbWwdycy3j"
      },
      "source": [
        "idx_df = pd.DataFrame(idx_to_label_ls, columns=['idx', 'label'])"
      ],
      "execution_count": null,
      "outputs": []
    },
    {
      "cell_type": "code",
      "metadata": {
        "id": "cvO_OecCd0t1"
      },
      "source": [
        "def merge_and_label_model(orig_df, model_name, delete_unknown=True):\n",
        "  df_with_label = orig_df.merge(idx_df, left_on='tag', right_on='idx')\n",
        "  del df_with_label['idx']\n",
        "  df_with_label['model'] = model_name\n",
        "  # df_with_label = df_with_label[['model', 'tag', 'label', 'precision', 'recall', 'f_score', 'correct_count']]\n",
        "  df_with_label = df_with_label[['model', 'label','f_score']]\n",
        "  if delete_unknown: \n",
        "    df_with_label = df_with_label[df_with_label.f_score != '-']\n",
        "  df_with_label = df_with_label.rename(columns={'f_score': model_name+'_f_score'})\n",
        "  return df_with_label"
      ],
      "execution_count": 223,
      "outputs": []
    },
    {
      "cell_type": "code",
      "metadata": {
        "id": "U9bExIUchzYx"
      },
      "source": [
        "merged_nn_df = merge_and_label_model(df_no_crf, 'NN')\n",
        "merged_crf_df = merge_and_label_model(df_crf, 'NN+CRF')\n",
        "merged_pretrained_df = merge_and_label_model(df_pretrained, 'NN+CRF+Pretrained')\n",
        "\n",
        "# df_all = pd.concat([merged_nn_df, merged_crf_df, merged_pretrained_df], ignore_index=True)"
      ],
      "execution_count": 224,
      "outputs": []
    },
    {
      "cell_type": "code",
      "metadata": {
        "colab": {
          "base_uri": "https://localhost:8080/",
          "height": 359
        },
        "id": "25J9rtVbp-g-",
        "outputId": "30b72c3f-ec8a-4180-a7de-54a51f06a8e7"
      },
      "source": [
        "merged1 = merged_nn_df.merge(merged_crf_df, left_on='label', right_on='label')\n",
        "merged2 = merged1.merge(merged_pretrained_df, left_on='label', right_on='label')\n",
        "merged2 = merged2['label',]\n",
        "merged2.head(10)"
      ],
      "execution_count": 230,
      "outputs": [
        {
          "output_type": "execute_result",
          "data": {
            "text/html": [
              "<div>\n",
              "<style scoped>\n",
              "    .dataframe tbody tr th:only-of-type {\n",
              "        vertical-align: middle;\n",
              "    }\n",
              "\n",
              "    .dataframe tbody tr th {\n",
              "        vertical-align: top;\n",
              "    }\n",
              "\n",
              "    .dataframe thead th {\n",
              "        text-align: right;\n",
              "    }\n",
              "</style>\n",
              "<table border=\"1\" class=\"dataframe\">\n",
              "  <thead>\n",
              "    <tr style=\"text-align: right;\">\n",
              "      <th></th>\n",
              "      <th>model_x</th>\n",
              "      <th>label</th>\n",
              "      <th>NN_f_score</th>\n",
              "      <th>model_y</th>\n",
              "      <th>NN+CRF_f_score</th>\n",
              "      <th>model</th>\n",
              "      <th>NN+CRF+Pretrained_f_score</th>\n",
              "    </tr>\n",
              "  </thead>\n",
              "  <tbody>\n",
              "    <tr>\n",
              "      <th>0</th>\n",
              "      <td>NN</td>\n",
              "      <td>FIXN</td>\n",
              "      <td>99.7283</td>\n",
              "      <td>NN+CRF</td>\n",
              "      <td>99.7283</td>\n",
              "      <td>NN+CRF+Pretrained</td>\n",
              "      <td>99.7418</td>\n",
              "    </tr>\n",
              "    <tr>\n",
              "      <th>1</th>\n",
              "      <td>NN</td>\n",
              "      <td>VACT</td>\n",
              "      <td>94.7413</td>\n",
              "      <td>NN+CRF</td>\n",
              "      <td>94.5174</td>\n",
              "      <td>NN+CRF+Pretrained</td>\n",
              "      <td>94.1248</td>\n",
              "    </tr>\n",
              "    <tr>\n",
              "      <th>2</th>\n",
              "      <td>NN</td>\n",
              "      <td>NCMN</td>\n",
              "      <td>93.7416</td>\n",
              "      <td>NN+CRF</td>\n",
              "      <td>93.5905</td>\n",
              "      <td>NN+CRF+Pretrained</td>\n",
              "      <td>93.3444</td>\n",
              "    </tr>\n",
              "    <tr>\n",
              "      <th>3</th>\n",
              "      <td>NN</td>\n",
              "      <td>PUNC</td>\n",
              "      <td>99.7402</td>\n",
              "      <td>NN+CRF</td>\n",
              "      <td>99.8062</td>\n",
              "      <td>NN+CRF+Pretrained</td>\n",
              "      <td>99.7907</td>\n",
              "    </tr>\n",
              "    <tr>\n",
              "      <th>4</th>\n",
              "      <td>NN</td>\n",
              "      <td>CFQC</td>\n",
              "      <td>99.2481</td>\n",
              "      <td>NN+CRF</td>\n",
              "      <td>97.0588</td>\n",
              "      <td>NN+CRF+Pretrained</td>\n",
              "      <td>91.0345</td>\n",
              "    </tr>\n",
              "    <tr>\n",
              "      <th>5</th>\n",
              "      <td>NN</td>\n",
              "      <td>DONM</td>\n",
              "      <td>93.3741</td>\n",
              "      <td>NN+CRF</td>\n",
              "      <td>93.3876</td>\n",
              "      <td>NN+CRF+Pretrained</td>\n",
              "      <td>93.4277</td>\n",
              "    </tr>\n",
              "    <tr>\n",
              "      <th>6</th>\n",
              "      <td>NN</td>\n",
              "      <td>JCRG</td>\n",
              "      <td>97.503</td>\n",
              "      <td>NN+CRF</td>\n",
              "      <td>97.6104</td>\n",
              "      <td>NN+CRF+Pretrained</td>\n",
              "      <td>97.3272</td>\n",
              "    </tr>\n",
              "    <tr>\n",
              "      <th>7</th>\n",
              "      <td>NN</td>\n",
              "      <td>NCNM</td>\n",
              "      <td>56.8336</td>\n",
              "      <td>NN+CRF</td>\n",
              "      <td>62.5</td>\n",
              "      <td>NN+CRF+Pretrained</td>\n",
              "      <td>63.1148</td>\n",
              "    </tr>\n",
              "    <tr>\n",
              "      <th>8</th>\n",
              "      <td>NN</td>\n",
              "      <td>CNIT</td>\n",
              "      <td>64.8094</td>\n",
              "      <td>NN+CRF</td>\n",
              "      <td>59.8958</td>\n",
              "      <td>NN+CRF+Pretrained</td>\n",
              "      <td>61.6279</td>\n",
              "    </tr>\n",
              "    <tr>\n",
              "      <th>9</th>\n",
              "      <td>NN</td>\n",
              "      <td>NPRP</td>\n",
              "      <td>50.9664</td>\n",
              "      <td>NN+CRF</td>\n",
              "      <td>50.9972</td>\n",
              "      <td>NN+CRF+Pretrained</td>\n",
              "      <td>48.0173</td>\n",
              "    </tr>\n",
              "  </tbody>\n",
              "</table>\n",
              "</div>"
            ],
            "text/plain": [
              "  model_x label  ...              model NN+CRF+Pretrained_f_score\n",
              "0      NN  FIXN  ...  NN+CRF+Pretrained                   99.7418\n",
              "1      NN  VACT  ...  NN+CRF+Pretrained                   94.1248\n",
              "2      NN  NCMN  ...  NN+CRF+Pretrained                   93.3444\n",
              "3      NN  PUNC  ...  NN+CRF+Pretrained                   99.7907\n",
              "4      NN  CFQC  ...  NN+CRF+Pretrained                   91.0345\n",
              "5      NN  DONM  ...  NN+CRF+Pretrained                   93.4277\n",
              "6      NN  JCRG  ...  NN+CRF+Pretrained                   97.3272\n",
              "7      NN  NCNM  ...  NN+CRF+Pretrained                   63.1148\n",
              "8      NN  CNIT  ...  NN+CRF+Pretrained                   61.6279\n",
              "9      NN  NPRP  ...  NN+CRF+Pretrained                   48.0173\n",
              "\n",
              "[10 rows x 7 columns]"
            ]
          },
          "metadata": {
            "tags": []
          },
          "execution_count": 230
        }
      ]
    },
    {
      "cell_type": "code",
      "metadata": {
        "colab": {
          "base_uri": "https://localhost:8080/",
          "height": 586
        },
        "id": "GwmqsV9Zm4ix",
        "outputId": "42da5128-2292-4898-b696-5ca3bcab2a4a"
      },
      "source": [
        "merged2.plot.bar(x='label', figsize=(24, 8), title='NO SORT')"
      ],
      "execution_count": 241,
      "outputs": [
        {
          "output_type": "execute_result",
          "data": {
            "text/plain": [
              "<matplotlib.axes._subplots.AxesSubplot at 0x7feda0a7d630>"
            ]
          },
          "metadata": {
            "tags": []
          },
          "execution_count": 241
        },
        {
          "output_type": "display_data",
          "data": {
            "image/png": "[encoded data removed]",
            "text/plain": [
              "<Figure size 1728x576 with 1 Axes>"
            ]
          },
          "metadata": {
            "tags": [],
            "needs_background": "light"
          }
        }
      ]
    },
    {
      "cell_type": "code",
      "metadata": {
        "colab": {
          "base_uri": "https://localhost:8080/",
          "height": 586
        },
        "id": "ioV1z3oGudI2",
        "outputId": "557275cb-2fca-4d44-ab42-485478756dec"
      },
      "source": [
        "merged2.sort_values(by=['NN_f_score'], ascending=False).plot.bar(x='label', figsize=(24, 8), title='SORT BY NN_f_score')"
      ],
      "execution_count": 244,
      "outputs": [
        {
          "output_type": "execute_result",
          "data": {
            "text/plain": [
              "<matplotlib.axes._subplots.AxesSubplot at 0x7feda07176d8>"
            ]
          },
          "metadata": {
            "tags": []
          },
          "execution_count": 244
        },
        {
          "output_type": "display_data",
          "data": {
            "image/png": "[encoded data removed]",
            "text/plain": [
              "<Figure size 1728x576 with 1 Axes>"
            ]
          },
          "metadata": {
            "tags": [],
            "needs_background": "light"
          }
        }
      ]
    },
    {
      "cell_type": "code",
      "metadata": {
        "colab": {
          "base_uri": "https://localhost:8080/",
          "height": 586
        },
        "id": "ZFAFwBU0vdIl",
        "outputId": "99ed6f39-4826-4779-f419-b6b4569d7760"
      },
      "source": [
        "merged2.sort_values(by=['NN+CRF_f_score'], ascending=False).plot.bar(x='label', figsize=(24, 8), title='SORT BY NN+CRF_f_score')"
      ],
      "execution_count": 245,
      "outputs": [
        {
          "output_type": "execute_result",
          "data": {
            "text/plain": [
              "<matplotlib.axes._subplots.AxesSubplot at 0x7feda07d1ba8>"
            ]
          },
          "metadata": {
            "tags": []
          },
          "execution_count": 245
        },
        {
          "output_type": "display_data",
          "data": {
            "image/png": "[encoded data removed]",
            "text/plain": [
              "<Figure size 1728x576 with 1 Axes>"
            ]
          },
          "metadata": {
            "tags": [],
            "needs_background": "light"
          }
        }
      ]
    },
    {
      "cell_type": "code",
      "metadata": {
        "colab": {
          "base_uri": "https://localhost:8080/",
          "height": 586
        },
        "id": "QO7s6SFIv88u",
        "outputId": "7ae7f5df-b7af-4efc-e0e3-6efeeb391d56"
      },
      "source": [
        "merged2.sort_values(by=['NN+CRF+Pretrained_f_score'], ascending=False).plot.bar(x='label', figsize=(24, 8), title='SORT BY NN+CRF+Pretrained_f_score')"
      ],
      "execution_count": 246,
      "outputs": [
        {
          "output_type": "execute_result",
          "data": {
            "text/plain": [
              "<matplotlib.axes._subplots.AxesSubplot at 0x7feda1983828>"
            ]
          },
          "metadata": {
            "tags": []
          },
          "execution_count": 246
        },
        {
          "output_type": "display_data",
          "data": {
            "image/png": "[encoded data removed]",
            "text/plain": [
              "<Figure size 1728x576 with 1 Axes>"
            ]
          },
          "metadata": {
            "tags": [],
            "needs_background": "light"
          }
        }
      ]
    },
    {
      "cell_type": "markdown",
      "metadata": {
        "id": "_Z8raWOawjxp"
      },
      "source": [
        "### #TODO 4\n",
        "\n",
        "Upon inference, the model also returns its transition matrix, which is learned during training. Your task is to observe and report whether the returned matrix is sensible. You can provide some examples to support your argument.\n",
        "\n",
        "#### Hint : The transition matrix must have the shape  of (num_class, num_class).\n",
        "\n",
        "<b>Write your answer here :</b>\n",
        "\n",
        "```\n",
        "TOPICS: \n",
        "  HIGH FREQUENCY:\n",
        "    - FIXV -> VATT\n",
        "    - DIBQ -> CNIT\n",
        "    - DCNM -> CMTR\n",
        "\n",
        "  LOW FREQUENCY:\n",
        "    - FIXV -> ADVN\n",
        "    - FIXV -> PUNC\n",
        "    - NLBL -> NLBL\n",
        "```\n",
        "\n",
        "```\n",
        "FIXV Samples: ['โดย', 'อย่าง', 'เป็น', 'ความ']\n",
        "```\n",
        "\n",
        "```\n",
        "VATT Samples: ['สูง', 'สำคัญ', 'ตรง', 'ยิ่ง', 'ใกล้ชิด']\n",
        "```\n",
        "\n",
        "```\n",
        "DIBQ Samples: ['หลาย', 'แทบ', 'ทุก', 'บรรดา', 'นานา']\n",
        "```\n",
        "\n",
        "```\n",
        "CNIT Samples: ['เล่ม', 'ชั้น', 'ประการ', 'สาขา', 'ฉบับ']\n",
        "```\n",
        "\n",
        "```\n",
        "DCNM Samples: ['1', 'หนึ่ง', '10', '55', 'เดียว']\n",
        "```\n",
        "\n",
        "```\n",
        "CMTR Samples: ['ปี', 'บิท', 'แรงม้า', 'ไบท์', 'Kbyte']\n",
        "```\n",
        "\n",
        "```\n",
        "ADVN Samples: ['มาก', 'ยิ่งขึ้น', 'มหาศาล', 'ด้วย', 'สืบไป']\n",
        "```\n",
        "\n",
        "```\n",
        "PUNC Samples: ['<space>',\n",
        " '<minus>',\n",
        " '<left_parenthesis>',\n",
        " '<right_parenthesis>',\n",
        " '<asterisk>']\n",
        "```\n",
        "\n",
        "```\n",
        "NLBL Samples: ['1', '2', '3', '3.1', '4']\n",
        "```\n",
        "\n",
        "<hr>\n",
        "\n",
        "## High frequency transitions\n",
        "\n",
        "These examples are all self-explanatory, so I will not write any further explanation in each pair of transition.\n",
        "\n",
        "<hr>\n",
        "\n",
        "### FIXV (Adverbial prefix) -> VATT (Attributive verb)\n",
        "\n",
        "```\n",
        "- อย่าง สูง\n",
        "- ความ ใกล้ชิด\n",
        "- โดย ตรง\n",
        "```\n",
        "\n",
        "<hr>\n",
        "\n",
        "### DIBQ (Indefinite determiner, between noun\n",
        "and classifier or preceding quantitative\n",
        "expression) -> CNIT (Unit classifier)\n",
        "\n",
        "```\n",
        "- หลาย ชั้น\n",
        "- นานา ฉบับ\n",
        "- ทุก ประการ\n",
        "```\n",
        "\n",
        "<hr>\n",
        "\n",
        "### DCNM (Determiner, cardinal number\n",
        "expression) -> CMTR (Measurement classifier)\n",
        "\n",
        "```\n",
        "- หนึ่ง ปี\n",
        "- 10 แรงม้า\n",
        "- 55 Kbyte\n",
        "```\n",
        "\n",
        "<hr>\n",
        "\n",
        "## Low frequency transitions\n",
        "\n",
        "<hr>\n",
        "\n",
        "### FIXV (Adverbial prefix) -> ADVN (Adverb with normal form)\n",
        "\n",
        "Take a look at:\n",
        "\n",
        "```\n",
        "- อย่าง มหาศาล\n",
        "- เป็น สืบไป\n",
        "- โดย ยิ่งขึ้น\n",
        "```\n",
        "\n",
        "These sound very common and should be titled as high freq, but according to the paper, FIXV -> ADVN word are combined and resulting in ADVP (Adverb with prefixed form) instead. So this transition in theory, should never happen.\n",
        "\n",
        "<hr>\n",
        "\n",
        "### FIXV (Adverbial prefix) -> PUNC (Punctuation)\n",
        "\n",
        "Usually, we do not cut or end sentences with PUNC after FIXV, some examples might help understand this a bit better:\n",
        "\n",
        "```\n",
        "- อย่าง -\n",
        "- เป็น *\n",
        "- โดย )\n",
        "\n",
        "(These never really happens in usual sentences)\n",
        "```\n",
        "\n",
        "<hr>\n",
        "\n",
        "### NLBL (Label noun) -> NLBL (Label noun)\n",
        "\n",
        "Label nouns are nouns labeled in front of lists, for example: `1).`, `ก).`, or `2.3.4).`. They never are written back to back to each other\n",
        "\n",
        "<hr>\n",
        "\n"
      ]
    },
    {
      "cell_type": "code",
      "metadata": {
        "colab": {
          "base_uri": "https://localhost:8080/"
        },
        "id": "iPlx0EemN2vy",
        "outputId": "52b92613-5e01-4405-e267-93a65cb5b722"
      },
      "source": [
        "def find_samples(tag_in, n):\n",
        "  res = []\n",
        "  for sentence in train_data:\n",
        "    for word, tag in sentence:\n",
        "      if tag_in == tag and word not in res:\n",
        "        res.append(word)\n",
        "      if len(res) >= n: \n",
        "        return res\n",
        "  return res\n",
        "find_samples('DCNM', 5)"
      ],
      "execution_count": null,
      "outputs": [
        {
          "output_type": "execute_result",
          "data": {
            "text/plain": [
              "['1', 'หนึ่ง', '10', '55', 'เดียว']"
            ]
          },
          "metadata": {
            "tags": []
          },
          "execution_count": 125
        }
      ]
    },
    {
      "cell_type": "code",
      "metadata": {
        "colab": {
          "base_uri": "https://localhost:8080/"
        },
        "id": "YgYzbowOQ-IX",
        "outputId": "55303cf6-25cb-432e-9d02-842a5f90e8cc"
      },
      "source": [
        "find_samples('CMTR', 5)"
      ],
      "execution_count": null,
      "outputs": [
        {
          "output_type": "execute_result",
          "data": {
            "text/plain": [
              "['ปี', 'บิท', 'แรงม้า', 'ไบท์', 'Kbyte']"
            ]
          },
          "metadata": {
            "tags": []
          },
          "execution_count": 126
        }
      ]
    },
    {
      "cell_type": "code",
      "metadata": {
        "id": "ps_vl2HOv44v"
      },
      "source": [
        "transition_matrix = crf.transitions.numpy()"
      ],
      "execution_count": null,
      "outputs": []
    },
    {
      "cell_type": "code",
      "metadata": {
        "colab": {
          "base_uri": "https://localhost:8080/"
        },
        "id": "TWz3_l9SFpjg",
        "outputId": "a8f7c934-02e1-43c0-f473-a5765be87fe4"
      },
      "source": [
        "transition_matrix.shape"
      ],
      "execution_count": null,
      "outputs": [
        {
          "output_type": "execute_result",
          "data": {
            "text/plain": [
              "(48, 48)"
            ]
          },
          "metadata": {
            "tags": []
          },
          "execution_count": 41
        }
      ]
    },
    {
      "cell_type": "code",
      "metadata": {
        "id": "Yyn9r2UsGF01"
      },
      "source": [
        "import matplotlib.pyplot as plt\n",
        "import seaborn as sns"
      ],
      "execution_count": null,
      "outputs": []
    },
    {
      "cell_type": "code",
      "metadata": {
        "id": "8URTifknHQhF"
      },
      "source": [
        "tag_list = ['ZERO']\n",
        "for key, value in label_to_idx.items():\n",
        "  # print(f\"{key}, {value}\")\n",
        "  tag_list.append(key)\n",
        "\n",
        "tag_list"
      ],
      "execution_count": null,
      "outputs": []
    },
    {
      "cell_type": "code",
      "metadata": {
        "id": "9P9_4PrL4J8v",
        "colab": {
          "base_uri": "https://localhost:8080/",
          "height": 809
        },
        "outputId": "0114a08b-62f9-4b21-824e-dee645ca6dae"
      },
      "source": [
        "fig, ax = plt.subplots(figsize=(16,12))\n",
        "plt.title(\"Transition heatmap\", fontsize=18)\n",
        "\n",
        "ttl = ax.title\n",
        "ttl.set_position([0.5, 1.05])\n",
        "\n",
        "ax = sns.heatmap(transition_matrix, cmap='vlag', xticklabels=tag_list, yticklabels=tag_list)\n",
        "plt.show()"
      ],
      "execution_count": 249,
      "outputs": [
        {
          "output_type": "display_data",
          "data": {
            "image/png": "[encoded data removed]",
            "text/plain": [
              "<Figure size 1152x864 with 2 Axes>"
            ]
          },
          "metadata": {
            "tags": [],
            "needs_background": "light"
          }
        }
      ]
    }
  ]
}