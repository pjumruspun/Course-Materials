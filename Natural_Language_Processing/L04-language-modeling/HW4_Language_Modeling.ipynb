{
  "nbformat": 4,
  "nbformat_minor": 0,
  "metadata": {
    "kernelspec": {
      "display_name": "Python 3",
      "language": "python",
      "name": "python3"
    },
    "language_info": {
      "codemirror_mode": {
        "name": "ipython",
        "version": 3
      },
      "file_extension": ".py",
      "mimetype": "text/x-python",
      "name": "python",
      "nbconvert_exporter": "python",
      "pygments_lexer": "ipython3",
      "version": "3.6.4"
    },
    "colab": {
      "name": "hw4_language_modeling_tostudent_2021_v2_default_dict.ipynb",
      "provenance": [],
      "collapsed_sections": [],
      "toc_visible": true
    }
  },
  "cells": [
    {
      "cell_type": "markdown",
      "metadata": {
        "collapsed": true,
        "id": "15QfB7RAuXAc"
      },
      "source": [
        "# Language Modeling using Ngram"
      ]
    },
    {
      "cell_type": "markdown",
      "metadata": {
        "id": "gucid6KNuXAe"
      },
      "source": [
        "In this Exercise, you are going to use NLTK which is a natural language processing library for python to create a bigram language model and its variation. You will build one model for each of the following type and calculate their perplexity:\n",
        "- Unigram Model\n",
        "- Bigram Model\n",
        "- Bigram Model with Laplace smoothing\n",
        "- Bigram Model with Interpolation\n",
        "- Bigram Model with Kneser-ney Interpolation\n",
        "- Neural LM (optional)\n",
        "\n"
      ]
    },
    {
      "cell_type": "code",
      "metadata": {
        "id": "MRRrn78ZjL54",
        "colab": {
          "base_uri": "https://localhost:8080/"
        },
        "outputId": "71d159ca-ac83-42f6-e08d-260336d3c3da"
      },
      "source": [
        "#download corpus\n",
        "!wget --no-check-certificate https://github.com/ekapolc/nlp_2019/raw/master/HW4/BEST2010.zip\n",
        "!unzip BEST2010.zip"
      ],
      "execution_count": 1,
      "outputs": [
        {
          "output_type": "stream",
          "text": [
            "--2021-02-14 03:22:29--  https://github.com/ekapolc/nlp_2019/raw/master/HW4/BEST2010.zip\n",
            "Resolving github.com (github.com)... 140.82.112.4\n",
            "Connecting to github.com (github.com)|140.82.112.4|:443... connected.\n",
            "HTTP request sent, awaiting response... 302 Found\n",
            "Location: https://raw.githubusercontent.com/ekapolc/nlp_2019/master/HW4/BEST2010.zip [following]\n",
            "--2021-02-14 03:22:29--  https://raw.githubusercontent.com/ekapolc/nlp_2019/master/HW4/BEST2010.zip\n",
            "Resolving raw.githubusercontent.com (raw.githubusercontent.com)... 185.199.108.133, 185.199.109.133, 185.199.110.133, ...\n",
            "Connecting to raw.githubusercontent.com (raw.githubusercontent.com)|185.199.108.133|:443... connected.\n",
            "HTTP request sent, awaiting response... 200 OK\n",
            "Length: 7423530 (7.1M) [application/zip]\n",
            "Saving to: ‘BEST2010.zip’\n",
            "\n",
            "BEST2010.zip        100%[===================>]   7.08M  19.3MB/s    in 0.4s    \n",
            "\n",
            "2021-02-14 03:22:30 (19.3 MB/s) - ‘BEST2010.zip’ saved [7423530/7423530]\n",
            "\n",
            "Archive:  BEST2010.zip\n",
            "   creating: BEST2010/\n",
            "  inflating: BEST2010/article.txt    \n",
            "  inflating: BEST2010/encyclopedia.txt  \n",
            "  inflating: BEST2010/news.txt       \n"
          ],
          "name": "stdout"
        }
      ]
    },
    {
      "cell_type": "code",
      "metadata": {
        "id": "GjJDeG03uXAf"
      },
      "source": [
        "#First we import necessary library such as math, nltk, bigram, and collections.\n",
        "import math\n",
        "import nltk\n",
        "import io\n",
        "import random\n",
        "from random import shuffle\n",
        "from nltk import bigrams, trigrams\n",
        "from collections import Counter, defaultdict\n",
        "random.seed(999)"
      ],
      "execution_count": 2,
      "outputs": []
    },
    {
      "cell_type": "markdown",
      "metadata": {
        "id": "HugXBHNEuXAh"
      },
      "source": [
        "BEST2010 is a free Thai NLP dataset by NECTEC usually use as a standard benchmark for various NLP tasks includeing language modeling. BEST2010 is separated into 4 domain article, encyclopedia, news and novel. The data is already  tokenized using '|' as a separator.\n",
        "\n",
        "For example,\n",
        "\n",
        "ตาม|ที่|นางประนอม ทองจันทร์| |กับ| |ด.ช.กิตติพงษ์ แหลมผักแว่น| |และ| |ด.ญ.กาญจนา กรองแก้ว| |ป่วย|สงสัย|ติด|เชื้อ|ไข้|ขณะ|นี้|ยัง|ไม่|ดี|ขึ้น|"
      ]
    },
    {
      "cell_type": "code",
      "metadata": {
        "id": "iu-AJSZZuXAi"
      },
      "source": [
        "# We choose news domain as our dataset\n",
        "best2010=[]\n",
        "fp= io.open('BEST2010/news.txt','r',encoding='utf-8')\n",
        "for i,line in enumerate(fp):\n",
        "    best2010.append(line.strip()[:-1])\n",
        "fp.close()\n",
        "all_vocabulary =set()\n",
        "total_word_count =0\n",
        "for line in best2010:\n",
        "    for word in line.split('|'):        \n",
        "        all_vocabulary.add(word)\n",
        "        total_word_count+=1"
      ],
      "execution_count": 6,
      "outputs": []
    },
    {
      "cell_type": "code",
      "metadata": {
        "id": "3WfpGgbruXAj",
        "colab": {
          "base_uri": "https://localhost:8080/"
        },
        "outputId": "b5d5df68-5f11-4308-99cd-38b92238d959"
      },
      "source": [
        "#For simplicity, we assumes that each line is a sentence.\n",
        "print ('Total sentences in BEST2010 news dataset :\\t'+ str(len(best2010)))\n",
        "print ('Total word counts in BEST2010 news dataset :\\t'+ str(total_word_count))\n",
        "print ('Total vocabulary in BEST2010 news dataset :\\t'+ str(len(all_vocabulary)))"
      ],
      "execution_count": 7,
      "outputs": [
        {
          "output_type": "stream",
          "text": [
            "Total sentences in BEST2010 news dataset :\t30969\n",
            "Total word counts in BEST2010 news dataset :\t1660190\n",
            "Total vocabulary in BEST2010 news dataset :\t35488\n"
          ],
          "name": "stdout"
        }
      ]
    },
    {
      "cell_type": "markdown",
      "metadata": {
        "id": "_JD9iXF1uXAm"
      },
      "source": [
        "We separate out input into 2 sets, train and test data with 70:30 ratio"
      ]
    },
    {
      "cell_type": "code",
      "metadata": {
        "id": "_WGcQq_juXAm",
        "colab": {
          "base_uri": "https://localhost:8080/"
        },
        "outputId": "7d0a0fcc-6e05-4e23-aa08-b7fd00cd9193"
      },
      "source": [
        "sentences = best2010\n",
        "# The data is separated to train and test set with 70:30 ratio.\n",
        "train = sentences[:int(len(sentences)*0.7)]\n",
        "test = sentences[int(len(sentences)*0.7):]\n",
        "\n",
        "#Training data\n",
        "train_vocabulary =set()\n",
        "train_word_count =0\n",
        "for line in train:\n",
        "    for word in line.split('|'):        \n",
        "        train_vocabulary.add(word)\n",
        "        train_word_count+=1\n",
        "print ('Total sentences in BEST2010 news training dataset :\\t'+ str(len(train)))\n",
        "print ('Total word counts in BEST2010 news training dataset :\\t'+ str(train_word_count))\n",
        "print ('Total vocabuary in BEST2010 news training dataset :\\t'+ str(len(train_vocabulary)))\n",
        "# We will use 1/vocab_size as a default value for unknown word\n",
        "unk_value = math.pow(len(train_vocabulary),-1)"
      ],
      "execution_count": 234,
      "outputs": [
        {
          "output_type": "stream",
          "text": [
            "Total sentences in BEST2010 news training dataset :\t21678\n",
            "Total word counts in BEST2010 news training dataset :\t1042797\n",
            "Total vocabuary in BEST2010 news training dataset :\t26240\n"
          ],
          "name": "stdout"
        }
      ]
    },
    {
      "cell_type": "markdown",
      "metadata": {
        "id": "pHtCMFMluXAo"
      },
      "source": [
        "# Unigram"
      ]
    },
    {
      "cell_type": "markdown",
      "metadata": {
        "id": "2V1WQTGzuXAp"
      },
      "source": [
        "In this section, we will demonstrate how to build a unigram language model <br>\n",
        "**Important note:** <br>\n",
        "**\\<s\\>** = sentence start symbol <br>\n",
        "**\\</s\\>** = sentence end symbol "
      ]
    },
    {
      "cell_type": "code",
      "metadata": {
        "id": "vQjO4wX_uXAp"
      },
      "source": [
        "def getUnigramModel(data):\n",
        "    model = defaultdict(lambda: 0)\n",
        "    word_count =0\n",
        "    for sentence in data:\n",
        "        sentence +=  u'|</s>' #for unigram model we can always ignore <s>, since p(w0=<s>)=1\n",
        "        for w1 in sentence.split('|'):\n",
        "            model[w1] +=1.0\n",
        "            word_count+=1\n",
        "    for w1 in model:\n",
        "        model[w1] = model[w1]/(word_count)\n",
        "    return model"
      ],
      "execution_count": null,
      "outputs": []
    },
    {
      "cell_type": "code",
      "metadata": {
        "id": "dxoVqkfuuXAr"
      },
      "source": [
        "model = getUnigramModel(train)"
      ],
      "execution_count": null,
      "outputs": []
    },
    {
      "cell_type": "code",
      "metadata": {
        "id": "6coGxSY7uXAt"
      },
      "source": [
        "def getLnValue(x):\n",
        "    if x >0.0:\n",
        "        return math.log(x)\n",
        "    else:\n",
        "        return math.log(unk_value)"
      ],
      "execution_count": 233,
      "outputs": []
    },
    {
      "cell_type": "code",
      "metadata": {
        "id": "cFy8yhZjuXAv",
        "colab": {
          "base_uri": "https://localhost:8080/"
        },
        "outputId": "0e71e9b9-23f6-43c4-be2c-78527d4e2185"
      },
      "source": [
        "#problability of 'นายก'\n",
        "print(getLnValue(model[u'นายก']))\n",
        "#for example, problability of 'นายกรัฐมนตรี' which is an unknown word is equal to\n",
        "print(getLnValue(model[u'นายกรัฐมนตรี']))\n",
        "#problability of 'นายก' 'ได้' 'ให้' 'สัมภาษณ์' 'กับ' 'สื่อ'\n",
        "prob = getLnValue(model[u'นายก'])+getLnValue(model[u'ได้'])+ getLnValue(model[u'ให้'])+getLnValue(model[u'สัมภาษณ์'])+getLnValue(model[u'กับ'])+getLnValue(model[u'สื่อ'])+getLnValue(model['</s>'])\n",
        "print('Ln', prob)\n",
        "print ('Problability of a sentence', math.exp(prob))"
      ],
      "execution_count": null,
      "outputs": [
        {
          "output_type": "stream",
          "text": [
            "-6.551526663995246\n",
            "-10.175040243058024\n",
            "Ln -39.72069644125504\n",
            "Problability of a sentence 5.617210748667918e-18\n"
          ],
          "name": "stdout"
        }
      ]
    },
    {
      "cell_type": "markdown",
      "metadata": {
        "id": "D8EfqnDsuXAw"
      },
      "source": [
        "# Perplexity\n",
        "\n",
        "In order to compare language model we need to calculate perplexity. In this task you should write a perplexity calculation code for the unigram model. The result perplexity should be around 556.39 and\n",
        "476.07 on train and test data."
      ]
    },
    {
      "cell_type": "markdown",
      "metadata": {
        "id": "qDbyLBEggie0"
      },
      "source": [
        "# TODO #0\n",
        "**Fill your name and ID here** <br>\n",
        "**Name**: Phatcharapon Jumruspun\n",
        "<br>\n",
        "**ID**: 6031040921"
      ]
    },
    {
      "cell_type": "markdown",
      "metadata": {
        "id": "hZHQ-6tVuXAx"
      },
      "source": [
        "## TODO #1 **Calculate perplexity**"
      ]
    },
    {
      "cell_type": "code",
      "metadata": {
        "id": "kh0DwzoouXAx"
      },
      "source": [
        "def calculate_sentence_ln_prob(sentence, model):\n",
        "  sum = 0\n",
        "  words = sentence.split('|')\n",
        "  for word in words:\n",
        "    # print(getLnValue(model[word]))\n",
        "    sum += getLnValue(model[word])\n",
        "  sum+= getLnValue(model['</s>'])\n",
        "  return sum\n",
        "\n",
        "def perplexity(test,model):\n",
        "  sum = 0\n",
        "  word_cnt = 0\n",
        "  for line in test:\n",
        "    sentence = line.split('|')\n",
        "    word_cnt += len(sentence)+1\n",
        "    sum += calculate_sentence_ln_prob(line, model)\n",
        "  exp_factor = -sum/word_cnt\n",
        "  return math.exp(exp_factor)"
      ],
      "execution_count": null,
      "outputs": []
    },
    {
      "cell_type": "code",
      "metadata": {
        "id": "KTkIoVWsuXAz",
        "colab": {
          "base_uri": "https://localhost:8080/"
        },
        "outputId": "636e1017-36df-45ff-e73d-9ee82da8f87e"
      },
      "source": [
        "print(perplexity(train,model))\n",
        "print(perplexity(test,model))"
      ],
      "execution_count": null,
      "outputs": [
        {
          "output_type": "stream",
          "text": [
            "556.3925994212195\n",
            "476.0687892303532\n"
          ],
          "name": "stdout"
        }
      ]
    },
    {
      "cell_type": "markdown",
      "metadata": {
        "id": "gad1QuPAHUoK"
      },
      "source": [
        "## TODO #2 **Please explain why this model give us such a high perplexity.**"
      ]
    },
    {
      "cell_type": "markdown",
      "metadata": {
        "id": "tMbhIO29HT6y"
      },
      "source": [
        "**Your answer**:  \n",
        "Unigram model doesn't really represent the probability of the sentences occurring in the language. As it only represents the probability of word found in the language alone. It lacks the \"Context\" around each word in sentences."
      ]
    },
    {
      "cell_type": "markdown",
      "metadata": {
        "id": "lK0gaMf0uXA2"
      },
      "source": [
        "# Bigram"
      ]
    },
    {
      "cell_type": "markdown",
      "metadata": {
        "id": "dmTkAY_QuXA3"
      },
      "source": [
        "Next, you will create a better language model than a unigram (which is not much to compare with). But first, it is very tedious to count every pair of words that occur in our corpus by ourselves. In this case, nltk provide us a simple library which will do it for us."
      ]
    },
    {
      "cell_type": "code",
      "metadata": {
        "id": "Lv6r2LJ1uXA4",
        "colab": {
          "base_uri": "https://localhost:8080/"
        },
        "outputId": "ac7f9232-ba85-40b4-8c06-a89d994506a8"
      },
      "source": [
        "#example of nltk usage for bigram\n",
        "sentence = 'I always search google for an answer .'\n",
        "\n",
        "print('This is how nltk generate bigram.')\n",
        "for w1,w2 in bigrams(sentence.split(), pad_right=True, pad_left=True):\n",
        "    print (w1,w2)\n",
        "print('None is used as a start and end of sentence symbol.')"
      ],
      "execution_count": null,
      "outputs": [
        {
          "output_type": "stream",
          "text": [
            "This is how nltk generate bigram.\n",
            "None I\n",
            "I always\n",
            "always search\n",
            "search google\n",
            "google for\n",
            "for an\n",
            "an answer\n",
            "answer .\n",
            ". None\n",
            "None is used as a start and end of sentence symbol.\n"
          ],
          "name": "stdout"
        }
      ]
    },
    {
      "cell_type": "markdown",
      "metadata": {
        "id": "5R2T-6i9uXA6"
      },
      "source": [
        "Now, you should be able to implement a bigram model by yourself. Also, you must create a new perplexity calculation for bigram. The result perplexity should be around 58.78 and 146.26 on train and test data."
      ]
    },
    {
      "cell_type": "markdown",
      "metadata": {
        "id": "9aYkjzTzuXA7"
      },
      "source": [
        "## TODO #3 **Create a Bigram Model**"
      ]
    },
    {
      "cell_type": "code",
      "metadata": {
        "id": "ZhnAa1XuuXA7"
      },
      "source": [
        "def getBigramModel(data):\n",
        "  ###FILL YOUR CODE HERE###\n",
        "  unigram_count = defaultdict(lambda: 0)\n",
        "  bigram_count = defaultdict(lambda: 0)\n",
        "\n",
        "  for sentence in data:\n",
        "    for w1, w2 in bigrams(sentence.split('|'), pad_right=True, pad_left=True):\n",
        "      w1 = str(w1)\n",
        "      w2 = str(w2)\n",
        "      if w1 == 'None': w1 = '<s>'\n",
        "      if w2 == 'None': w2 = '</s>'\n",
        "      unigram_count[w1] += 1\n",
        "      bigram_count[(w1, w2)] += 1\n",
        "\n",
        "  bigram_prob = defaultdict(lambda: 0)\n",
        "\n",
        "  for sentence in data: \n",
        "    for w1, w2 in bigrams(sentence.split('|'), pad_right=True, pad_left=True):\n",
        "      w1 = str(w1)\n",
        "      w2 = str(w2)\n",
        "      if w1 == 'None': w1 = '<s>'\n",
        "      if w2 == 'None': w2 = '</s>'\n",
        "      bigram_prob[(w1, w2)] = bigram_count[(w1, w2)]/unigram_count[w1]\n",
        "\n",
        "  return bigram_prob\n",
        "\n",
        "model = getBigramModel(train)"
      ],
      "execution_count": 139,
      "outputs": []
    },
    {
      "cell_type": "code",
      "metadata": {
        "colab": {
          "base_uri": "https://localhost:8080/"
        },
        "id": "8E4jHvSSRdMk",
        "outputId": "5f0d36bb-e15c-447e-ea94-c4a885829523"
      },
      "source": [
        "model[('สงสัย','ว่า')]"
      ],
      "execution_count": 140,
      "outputs": [
        {
          "output_type": "execute_result",
          "data": {
            "text/plain": [
              "0.12128712871287128"
            ]
          },
          "metadata": {
            "tags": []
          },
          "execution_count": 140
        }
      ]
    },
    {
      "cell_type": "markdown",
      "metadata": {
        "id": "i3_Cgu6guXA-"
      },
      "source": [
        "## TODO #4 **Calculate Perplexity for Bigram Model**\n",
        "\n"
      ]
    },
    {
      "cell_type": "code",
      "metadata": {
        "id": "4i3NoQGfuXA-"
      },
      "source": [
        "def calculate_sentence_ln_prob(sentence, model,mode='1D'):\n",
        "  sum = 0\n",
        "  for w1, w2 in bigrams(sentence.split('|'), pad_left=True, pad_right=True):\n",
        "    if w1 == None: w1 = '<s>'\n",
        "    if w2 == None: w2 = '</s>'\n",
        "    if mode == '1D':\n",
        "      # print(w1, w2, getLnValue(model[(w1, w2)]))\n",
        "      sum += getLnValue(model[(w1, w2)])\n",
        "    elif mode == '2D':\n",
        "      # print(w1, w2, getLnValue(model[w1][w2]))\n",
        "      sum += getLnValue(model[w1][w2])\n",
        "  return sum\n",
        "\n",
        "def perplexity(test,model,mode='1D'):\n",
        "  sum = 0\n",
        "  word_cnt = 0\n",
        "  for line in test:\n",
        "    sentence = line.split('|')\n",
        "    word_cnt += len(sentence)+1\n",
        "    sum += calculate_sentence_ln_prob(line, model, mode)\n",
        "  exp_factor = -sum/word_cnt\n",
        "  return math.exp(exp_factor)"
      ],
      "execution_count": 172,
      "outputs": []
    },
    {
      "cell_type": "code",
      "metadata": {
        "id": "OC1L5YWfuXBA",
        "colab": {
          "base_uri": "https://localhost:8080/"
        },
        "outputId": "fcde7593-6d34-4d2c-a772-306a2f3e5c44"
      },
      "source": [
        "print (perplexity(train,model) )\n",
        "print (perplexity(test, model))\n",
        "\n",
        "# 58.78942889767147\n",
        "# 146.26539331038614"
      ],
      "execution_count": 143,
      "outputs": [
        {
          "output_type": "stream",
          "text": [
            "58.78942889767147\n",
            "146.26539331038614\n"
          ],
          "name": "stdout"
        }
      ]
    },
    {
      "cell_type": "markdown",
      "metadata": {
        "id": "9BAF9DQbuXBC"
      },
      "source": [
        "# Smoothing"
      ]
    },
    {
      "cell_type": "markdown",
      "metadata": {
        "id": "jlm75BWLuXBC"
      },
      "source": [
        "Usually any ngram models have a sparsity problem, which means it does not have every possible ngram of words in the dataset. Smoothing techniques can alleviate this problem. In this section, you will implement two basic smoothing methods laplace smoothing and interpolation for bigram."
      ]
    },
    {
      "cell_type": "markdown",
      "metadata": {
        "id": "jwa7YQiouXBD"
      },
      "source": [
        "## TODO #5 **Bigram with Laplace smoothing (Add-One Smoothing)**"
      ]
    },
    {
      "cell_type": "code",
      "metadata": {
        "id": "noxLIpT3LrA-"
      },
      "source": [
        "def getBigramWithLaplaceSmoothing(data):\n",
        "  unigram_count = defaultdict(lambda: 0)\n",
        "  bigram_count = defaultdict(lambda: 0)\n",
        "\n",
        "  for sentence in data:\n",
        "    for w1, w2 in bigrams(sentence.split('|'), pad_right=True, pad_left=True):\n",
        "      w1 = str(w1)\n",
        "      w2 = str(w2)\n",
        "      if w1 == 'None': w1 = '<s>'\n",
        "      if w2 == 'None': w2 = '</s>'\n",
        "      unigram_count[w1] += 1\n",
        "      bigram_count[(w1, w2)] += 1\n",
        "\n",
        "  laplace = defaultdict(lambda: 0)\n",
        "\n",
        "  for sentence in data: \n",
        "    for w1, w2 in bigrams(sentence.split('|'), pad_right=True, pad_left=True):\n",
        "      w1 = str(w1)\n",
        "      w2 = str(w2)\n",
        "      if w1 == 'None': w1 = '<s>'\n",
        "      if w2 == 'None': w2 = '</s>'\n",
        "      laplace[(w1, w2)] = (bigram_count[(w1, w2)]+1)/(unigram_count[w1]+len(train_vocabulary))\n",
        "\n",
        "  return laplace\n",
        "\n",
        "model = getBigramWithLaplaceSmoothing(train)"
      ],
      "execution_count": 123,
      "outputs": []
    },
    {
      "cell_type": "code",
      "metadata": {
        "colab": {
          "base_uri": "https://localhost:8080/"
        },
        "id": "zWkZyTrwMmYh",
        "outputId": "de2c6808-eda7-4cdc-f4fc-f6b8deb61050"
      },
      "source": [
        "model[('<s>', 'การ')]"
      ],
      "execution_count": 121,
      "outputs": [
        {
          "output_type": "execute_result",
          "data": {
            "text/plain": [
              "0.004215534872073125"
            ]
          },
          "metadata": {
            "tags": []
          },
          "execution_count": 121
        }
      ]
    },
    {
      "cell_type": "code",
      "metadata": {
        "colab": {
          "base_uri": "https://localhost:8080/"
        },
        "id": "e2FE3Jdk3jK_",
        "outputId": "1a78f920-7946-478a-dbe9-fc6548406c0c"
      },
      "source": [
        "print (perplexity(train,model))\n",
        "print (perplexity(test, model))\n",
        "\n",
        "# 974.8134581679766\n",
        "# 1098.1622194979489"
      ],
      "execution_count": 124,
      "outputs": [
        {
          "output_type": "stream",
          "text": [
            "974.7840907514313\n",
            "1098.1361205594044\n"
          ],
          "name": "stdout"
        }
      ]
    },
    {
      "cell_type": "markdown",
      "metadata": {
        "id": "5JDswBSIuXBG"
      },
      "source": [
        "## TODO #6 **Bigram with Interpolation**\n",
        "lambda value is 0.7 for bigram, 0.25 for unigram, and 0.05 for unknown word"
      ]
    },
    {
      "cell_type": "code",
      "metadata": {
        "id": "3sGUl221rUNL"
      },
      "source": [
        "class key_dependent_dict(defaultdict):\n",
        "  def __init__(self, key_func):\n",
        "    super().__init__(None)\n",
        "    self.key_func = key_func\n",
        "  def __missing__(self, key):\n",
        "    res = self.key_func(key)\n",
        "    self[key] = res\n",
        "    return res"
      ],
      "execution_count": 196,
      "outputs": []
    },
    {
      "cell_type": "code",
      "metadata": {
        "id": "pskrwklHuXBI"
      },
      "source": [
        "#interpolation\n",
        "\n",
        "def getBigramWithInterpolation(data,unk=unk_value,handle_oov='unk'):\n",
        "    ###FILL YOUR CODE HERE###\n",
        "  expected_oov_handling = ['unk', 'unigram_unk']\n",
        "  if handle_oov not in expected_oov_handling:\n",
        "    raise Exception(f\"handle_oov parameter incorrect, expected 1 of '{expected_oov_handling}' but got '{handle_oov}'\")\n",
        "    return\n",
        "\n",
        "  unigram_count = defaultdict(lambda: 0)\n",
        "  bigram_count = defaultdict(lambda: 0)\n",
        "\n",
        "  for sentence in data:\n",
        "    for w1, w2 in bigrams(sentence.split('|'), pad_right=True, pad_left=True):\n",
        "      w1 = str(w1)\n",
        "      w2 = str(w2)\n",
        "      if w1 == 'None': w1 = '<s>'\n",
        "      if w2 == 'None': \n",
        "        w2 = '</s>'\n",
        "        unigram_count[w2] += 1\n",
        "      unigram_count[w1] += 1\n",
        "      bigram_count[(w1, w2)] += 1\n",
        "  \n",
        "  unique_vocab = len(unigram_count)\n",
        "  unigram_sum = sum(unigram_count.values())\n",
        "\n",
        "  if unk == 'count': unk = 1/unique_vocab\n",
        "\n",
        "  if handle_oov == expected_oov_handling[1]:\n",
        "    def getValueInterpolation(w1, w2):\n",
        "      if unigram_count[w1] == 0:\n",
        "        return 0\n",
        "      else:\n",
        "        return 0.25 * unigram_count[w2]/unique_vocab + 0.05 * unk\n",
        "    inter = key_dependent_dict(lambda args: getValueInterpolation(args[0], args[1]))\n",
        "\n",
        "  if handle_oov == expected_oov_handling[0]:\n",
        "    inter = defaultdict(lambda: 0)\n",
        "\n",
        "  for (w1, w2) in bigram_count.keys():\n",
        "    w1 = str(w1)\n",
        "    w2 = str(w2)\n",
        "    if w1 == 'None': w1 = '<s>'\n",
        "    if w2 == 'None': w2 = '</s>'\n",
        "    lambda2 = 0.7 * bigram_count[(w1, w2)]/unigram_count[w1]\n",
        "    lambda1 = 0.25 * unigram_count[w2]/unigram_sum\n",
        "    lambda0 = 0.05 * unk\n",
        "    inter[(w1, w2)] = lambda2 + lambda1 + lambda0\n",
        "\n",
        "  return inter"
      ],
      "execution_count": 269,
      "outputs": []
    },
    {
      "cell_type": "code",
      "metadata": {
        "colab": {
          "base_uri": "https://localhost:8080/"
        },
        "id": "MzdK1iFSN4Lm",
        "outputId": "9f196bc3-a52b-4f27-ef25-f1341ac7fc60"
      },
      "source": [
        "model = getBigramWithInterpolation(train)\n",
        "print (perplexity(train,model))        \n",
        "print (perplexity(test,model))\n",
        "\n",
        "# 73.38409869825665\n",
        "# 172.67485908813356"
      ],
      "execution_count": 274,
      "outputs": [
        {
          "output_type": "stream",
          "text": [
            "73.69857239963139\n",
            "173.39908315559052\n"
          ],
          "name": "stdout"
        }
      ]
    },
    {
      "cell_type": "code",
      "metadata": {
        "colab": {
          "base_uri": "https://localhost:8080/"
        },
        "id": "fcwRQnd336cM",
        "outputId": "4e3b42db-05ac-48be-af13-243f91769ad0"
      },
      "source": [
        "# When bigram not found but unigram found: return unigram + unk\n",
        "# Instead of just returning unk alone\n",
        "\n",
        "model = getBigramWithInterpolation(train, handle_oov='unigram_unk')\n",
        "print (perplexity(train,model))        \n",
        "print (perplexity(test,model))"
      ],
      "execution_count": 271,
      "outputs": [
        {
          "output_type": "stream",
          "text": [
            "73.69857239963139\n",
            "114.01798249183278\n"
          ],
          "name": "stdout"
        }
      ]
    },
    {
      "cell_type": "markdown",
      "metadata": {
        "id": "90FupFyQuXBL"
      },
      "source": [
        "the result perplexity on training and testing should be \n",
        "\n",
        "    974.81, 1098.16 for Laplace smoothing\n",
        "    73.38, 172.67 for Interpolation"
      ]
    },
    {
      "cell_type": "markdown",
      "metadata": {
        "id": "pUorP-EWuXBM"
      },
      "source": [
        "# Language modeling on multiple domains\n",
        "\n",
        "Sometimes, we do not have enough data to create a language model for a new domain. In that case, we can improvised by combining several models to improve result on the new domain.\n",
        "\n",
        "In this exercise you will try to merge two language models from news and article domains to create a language model for the encyclopedia domain."
      ]
    },
    {
      "cell_type": "code",
      "metadata": {
        "id": "Jel9Hx69uXBN"
      },
      "source": [
        "# create article data\n",
        "encyclo_data=[]\n",
        "fp= io.open('BEST2010/encyclopedia.txt','r',encoding='utf-8')\n",
        "for i,line in enumerate(fp):\n",
        "    encyclo_data.append(line.strip()[:-1])\n",
        "fp.close()"
      ],
      "execution_count": 272,
      "outputs": []
    },
    {
      "cell_type": "markdown",
      "metadata": {
        "id": "9skdgo8muXBO"
      },
      "source": [
        "First, you should try to calculate perplexity of your bigram with interpolation using \"news data\" (train) on \"encyclopedia data\" (test). The result perplexity should be around 727.35.\n",
        "\n",
        "For your information, a bigram model with interpolation using \"ariticle data\" (train) to test on \"encyclopedia data\" (test) has a perplexity of 505.79."
      ]
    },
    {
      "cell_type": "code",
      "metadata": {
        "id": "x0l91qLEuXBP",
        "colab": {
          "base_uri": "https://localhost:8080/"
        },
        "outputId": "8a589ae3-b83f-4834-8f8d-399362ef3c20"
      },
      "source": [
        "# print perplexity of bigram with interpolation on article data        \n",
        "# 727.3502637212223\n",
        "print (perplexity(encyclo_data,model))"
      ],
      "execution_count": 275,
      "outputs": [
        {
          "output_type": "stream",
          "text": [
            "730.3982765453854\n"
          ],
          "name": "stdout"
        }
      ]
    },
    {
      "cell_type": "markdown",
      "metadata": {
        "id": "hwV9j9U-uXBR"
      },
      "source": [
        "## TODO #7 \n",
        "Write a model that produce 450.0 or less perplexity on encyclopedia data without using data from the encyclopedia as training data. (Hint : Try to combine a model with news data and a model with article data together.)"
      ]
    },
    {
      "cell_type": "code",
      "metadata": {
        "id": "wBjmLhUcuXBS",
        "colab": {
          "base_uri": "https://localhost:8080/"
        },
        "outputId": "9ab9c359-9110-4489-aa8a-e50bcb63b5a8"
      },
      "source": [
        "# Fill code here\n",
        "news = getBigramWithInterpolation(train)\n",
        "article = getBigramWithInterpolation(encyclo_data)\n",
        "\n",
        "combined_model = dict(news)\n",
        "combined_model.update(article)\n",
        "# 428.85251789073953 (on combined data)\n",
        "print('Perplexity of combine Bigram model with interpolation smoothing on encyclopedia test data',perplexity(encyclo_data, combined_model))"
      ],
      "execution_count": 279,
      "outputs": [
        {
          "output_type": "stream",
          "text": [
            "Perplexity of combine Bigram model with interpolation smoothing on encyclopedia test data 82.67199860229121\n"
          ],
          "name": "stdout"
        }
      ]
    },
    {
      "cell_type": "markdown",
      "metadata": {
        "id": "XNPEhD7WuXBV"
      },
      "source": [
        "## TODO #8 \n",
        "## Kneser-ney on \"News\"\n",
        "\n",
        "<!-- Reimplement equation 4.33 in SLP textbook (https://lagunita.stanford.edu/c4x/Engineering/CS-224N/asset/slp4.pdf) -->\n",
        "\n",
        "Implement Bigram Knerser-ney LM. The result perplexity should be around 55.06 and 140.76 on train and test data. \n"
      ]
    },
    {
      "cell_type": "code",
      "metadata": {
        "id": "2CzvIQ9ho7MR"
      },
      "source": [
        "# Fill codehere\n",
        "discount = 0.75\n",
        "\n",
        "def getKnModel(data, handle_oov='unk'):\n",
        "  expected_oov_handling = ['unk', 'pcon']\n",
        "  if handle_oov not in expected_oov_handling:\n",
        "    raise Exception(f\"handle_oov parameter incorrect, expected 1 of '{expected_oov_handling}' but got '{handle_oov}'\")\n",
        "    return\n",
        "\n",
        "  unigram_count = defaultdict(lambda: 0)\n",
        "  bigram_count = defaultdict(lambda: 0)\n",
        "\n",
        "  for sentence in data:\n",
        "    for w1, w2 in bigrams(sentence.split('|'), pad_right=True, pad_left=True):\n",
        "      w1 = str(w1)\n",
        "      w2 = str(w2)\n",
        "      if w1 == 'None': w1 = '<s>'\n",
        "      if w2 == 'None': w2 = '</s>'\n",
        "      unigram_count[w1] += 1\n",
        "      bigram_count[(w1, w2)] += 1\n",
        "\n",
        "  vertical_unique = defaultdict(lambda: 0)\n",
        "  horizontal_unique = defaultdict(lambda: 0)\n",
        "  unique = len(bigram_count)\n",
        "\n",
        "  for (w1, w2), count in bigram_count.items():\n",
        "    horizontal_unique[w1] += 1\n",
        "    vertical_unique[w2] += 1\n",
        "\n",
        "  if handle_oov == expected_oov_handling[1]:\n",
        "    def getValuePKN(w1, w2):\n",
        "      if unigram_count[w1] == 0:\n",
        "        return 0\n",
        "      else:\n",
        "        # OOV\n",
        "        l = discount*horizontal_unique[w1]/unigram_count[w1]\n",
        "        pcon = vertical_unique[w2]/unique\n",
        "        return l*pcon\n",
        "    pkn2 = key_dependent_dict(lambda args: getValuePKN(args[0], args[1]))\n",
        "  elif handle_oov == expected_oov_handling[0]:\n",
        "    pkn2 = defaultdict(lambda: 0)\n",
        "\n",
        "  for sentence in data: \n",
        "    for w1, w2 in bigrams(sentence.split('|'), pad_right=True, pad_left=True):\n",
        "      w1 = str(w1)\n",
        "      w2 = str(w2)\n",
        "      if w1 == 'None': w1 = '<s>'\n",
        "      if w2 == 'None': w2 = '</s>'\n",
        "      mx = max(bigram_count[(w1, w2)]-discount, 0)/unigram_count[w1]\n",
        "      l = discount*horizontal_unique[w1]/unigram_count[w1]\n",
        "      pcon = vertical_unique[w2]/unique\n",
        "      pkn2[(w1, w2)] = mx+l*pcon\n",
        "\n",
        "  return pkn2"
      ],
      "execution_count": 293,
      "outputs": []
    },
    {
      "cell_type": "code",
      "metadata": {
        "colab": {
          "base_uri": "https://localhost:8080/"
        },
        "id": "9httfvoVBPmC",
        "outputId": "56602afe-f862-423e-9676-90f3e3279676"
      },
      "source": [
        "debug = [\n",
        "  'I|am|Sam',\n",
        "  'Sam|I|am',\n",
        "  'I|am|Sam',\n",
        "  'I|like|green|eggs'\n",
        "]\n",
        "model = getKnModel(debug)\n",
        "model_pcon = getKnModel(debug, handle_oov='pcon')\n",
        "print([\n",
        "  model[('<s>','am')],\n",
        "  model[('am','Sam')],\n",
        "  model[('Sam','</s>')],\n",
        "])\n",
        "print([\n",
        "  model_pcon[('<s>','am')],\n",
        "  model_pcon[('am','Sam')],\n",
        "  model_pcon[('Sam','</s>')],\n",
        "])"
      ],
      "execution_count": 301,
      "outputs": [
        {
          "output_type": "stream",
          "text": [
            "[0, 0.5075757575757576, 0.553030303030303]\n",
            "[0.03409090909090909, 0.5075757575757576, 0.553030303030303]\n"
          ],
          "name": "stdout"
        }
      ]
    },
    {
      "cell_type": "code",
      "metadata": {
        "colab": {
          "base_uri": "https://localhost:8080/"
        },
        "id": "wyK7J2zcYY99",
        "outputId": "691c9fcd-9f17-4930-b9dd-d219e07aa308"
      },
      "source": [
        "# perplexity(['am|Sam'], model)\n",
        "calculate_sentence_ln_prob('am|Sam', model_pcon)"
      ],
      "execution_count": 302,
      "outputs": [
        {
          "output_type": "execute_result",
          "data": {
            "text/plain": [
              "-4.649176310443481"
            ]
          },
          "metadata": {
            "tags": []
          },
          "execution_count": 302
        }
      ]
    },
    {
      "cell_type": "code",
      "metadata": {
        "colab": {
          "base_uri": "https://localhost:8080/"
        },
        "id": "N_f-XqlCZ1DF",
        "outputId": "f345a54a-31aa-4bdd-e0e2-17ca53a5f1da"
      },
      "source": [
        "perplexity(['am|Sam'], model_pcon)\n",
        "# In slides ~ 4.71 as well"
      ],
      "execution_count": 303,
      "outputs": [
        {
          "output_type": "execute_result",
          "data": {
            "text/plain": [
              "4.710176763899694"
            ]
          },
          "metadata": {
            "tags": []
          },
          "execution_count": 303
        }
      ]
    },
    {
      "cell_type": "code",
      "metadata": {
        "colab": {
          "base_uri": "https://localhost:8080/"
        },
        "id": "_-WbfaVOpGFH",
        "outputId": "37faf4d2-c233-4e37-d072-a1a6b2a7eb2d"
      },
      "source": [
        "model = getKnModel(train)\n",
        "print (perplexity(train,model))        \n",
        "print (perplexity(test,model))\n",
        "\n",
        "# 71.14054002208687\n",
        "# 174.02464248000433\n",
        "# New test perplex from Ajarn: ~142, ~155?\n",
        "# Not found in bigram -> unk = 155"
      ],
      "execution_count": 299,
      "outputs": [
        {
          "output_type": "stream",
          "text": [
            "71.14054002208687\n",
            "155.09274968738495\n"
          ],
          "name": "stdout"
        }
      ]
    },
    {
      "cell_type": "code",
      "metadata": {
        "colab": {
          "base_uri": "https://localhost:8080/"
        },
        "id": "vSJJmDa19ajs",
        "outputId": "0f3a0dc5-a578-49ac-94e3-e786aecd1b3b"
      },
      "source": [
        "model_pcon = getKnModel(train, handle_oov='pcon')\n",
        "print (perplexity(train,model_pcon))        \n",
        "print (perplexity(test,model_pcon))\n",
        "\n",
        "# Not found in bigram -> weight * pcon = 142"
      ],
      "execution_count": 304,
      "outputs": [
        {
          "output_type": "stream",
          "text": [
            "71.14054002208687\n",
            "142.99781709085792\n"
          ],
          "name": "stdout"
        }
      ]
    },
    {
      "cell_type": "markdown",
      "metadata": {
        "id": "iAtK3fic_DlB"
      },
      "source": [
        "## TODO #9\n",
        "## Neural LM (optional)\n",
        "do it on news corpus that we splitted into train and test sets at the beginning of this exercise. "
      ]
    },
    {
      "cell_type": "code",
      "metadata": {
        "id": "4bxt1CWO_BbF"
      },
      "source": [
        "#there are many ways to do this. e.g.:\n",
        "#https://machinelearningmastery.com/develop-word-based-neural-language-models-python-keras/"
      ],
      "execution_count": null,
      "outputs": []
    }
  ]
}