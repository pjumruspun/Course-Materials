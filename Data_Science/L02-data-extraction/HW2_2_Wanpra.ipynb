{
  "nbformat": 4,
  "nbformat_minor": 0,
  "metadata": {
    "kernelspec": {
      "display_name": "Python 3",
      "language": "python",
      "name": "python3"
    },
    "language_info": {
      "codemirror_mode": {
        "name": "ipython",
        "version": 3
      },
      "file_extension": ".py",
      "mimetype": "text/x-python",
      "name": "python",
      "nbconvert_exporter": "python",
      "pygments_lexer": "ipython3",
      "version": "3.7.6"
    },
    "toc": {
      "base_numbering": 1,
      "nav_menu": {},
      "number_sections": true,
      "sideBar": true,
      "skip_h1_title": false,
      "title_cell": "Table of Contents",
      "title_sidebar": "Contents",
      "toc_cell": false,
      "toc_position": {},
      "toc_section_display": true,
      "toc_window_display": false
    },
    "varInspector": {
      "cols": {
        "lenName": 16,
        "lenType": 16,
        "lenVar": 40
      },
      "kernels_config": {
        "python": {
          "delete_cmd_postfix": "",
          "delete_cmd_prefix": "del ",
          "library": "var_list.py",
          "varRefreshCmd": "print(var_dic_list())"
        },
        "r": {
          "delete_cmd_postfix": ") ",
          "delete_cmd_prefix": "rm(",
          "library": "var_list.r",
          "varRefreshCmd": "cat(var_dic_list()) "
        }
      },
      "types_to_exclude": [
        "module",
        "function",
        "builtin_function_or_method",
        "instance",
        "_Feature"
      ],
      "window_display": false
    },
    "colab": {
      "name": "สำเนาของ Assignment-2.ipynb",
      "provenance": []
    }
  },
  "cells": [
    {
      "cell_type": "markdown",
      "metadata": {
        "id": "hBGzp7uEdzpP"
      },
      "source": [
        "# Assignment-2: Extracting Static WebPage\n",
        "\n",
        "Extract information about “วันพระ” for 3 years from:\n",
        "- https://www.myhora.com/ปฏิทิน/วันพระ-พ.ศ.2562.aspx\n",
        "- https://www.myhora.com/ปฏิทิน/วันพระ-พ.ศ.2563.aspx\n",
        "- https://www.myhora.com/ปฏิทิน/วันพระ-พ.ศ.2564.aspx\n"
      ]
    },
    {
      "cell_type": "markdown",
      "metadata": {
        "id": "B_jzrwjPdzpV"
      },
      "source": [
        "Note that you can use dateparse package to parse Thai date.  First, we will have to install the package, this is for Google Colab users.  Otherwise, installing via command line is recommended (pip or conda)."
      ]
    },
    {
      "cell_type": "code",
      "metadata": {
        "scrolled": true,
        "id": "y9nBvtp2dzpV",
        "colab": {
          "base_uri": "https://localhost:8080/"
        },
        "outputId": "d0d79fd4-c2f9-489a-cfa6-48c16b580331"
      },
      "source": [
        "import sys\n",
        "IN_COLAB = 'google.colab' in sys.modules\n",
        "if IN_COLAB:\n",
        "    %pip install dateparser"
      ],
      "execution_count": null,
      "outputs": [
        {
          "output_type": "stream",
          "text": [
            "Collecting dateparser\n",
            "\u001b[?25l  Downloading https://files.pythonhosted.org/packages/78/c4/b5ddc3eeac974d85055d88c1e6b62cc492fc1a93dbe3b66a45a756a7b807/dateparser-1.0.0-py2.py3-none-any.whl (279kB)\n",
            "\r\u001b[K     |█▏                              | 10kB 14.7MB/s eta 0:00:01\r\u001b[K     |██▍                             | 20kB 14.7MB/s eta 0:00:01\r\u001b[K     |███▌                            | 30kB 9.2MB/s eta 0:00:01\r\u001b[K     |████▊                           | 40kB 7.7MB/s eta 0:00:01\r\u001b[K     |█████▉                          | 51kB 5.2MB/s eta 0:00:01\r\u001b[K     |███████                         | 61kB 5.8MB/s eta 0:00:01\r\u001b[K     |████████▏                       | 71kB 5.9MB/s eta 0:00:01\r\u001b[K     |█████████▍                      | 81kB 6.4MB/s eta 0:00:01\r\u001b[K     |██████████▌                     | 92kB 5.7MB/s eta 0:00:01\r\u001b[K     |███████████▊                    | 102kB 5.9MB/s eta 0:00:01\r\u001b[K     |████████████▉                   | 112kB 5.9MB/s eta 0:00:01\r\u001b[K     |██████████████                  | 122kB 5.9MB/s eta 0:00:01\r\u001b[K     |███████████████▏                | 133kB 5.9MB/s eta 0:00:01\r\u001b[K     |████████████████▍               | 143kB 5.9MB/s eta 0:00:01\r\u001b[K     |█████████████████▋              | 153kB 5.9MB/s eta 0:00:01\r\u001b[K     |██████████████████▊             | 163kB 5.9MB/s eta 0:00:01\r\u001b[K     |████████████████████            | 174kB 5.9MB/s eta 0:00:01\r\u001b[K     |█████████████████████           | 184kB 5.9MB/s eta 0:00:01\r\u001b[K     |██████████████████████▎         | 194kB 5.9MB/s eta 0:00:01\r\u001b[K     |███████████████████████▍        | 204kB 5.9MB/s eta 0:00:01\r\u001b[K     |████████████████████████▋       | 215kB 5.9MB/s eta 0:00:01\r\u001b[K     |█████████████████████████▊      | 225kB 5.9MB/s eta 0:00:01\r\u001b[K     |███████████████████████████     | 235kB 5.9MB/s eta 0:00:01\r\u001b[K     |████████████████████████████    | 245kB 5.9MB/s eta 0:00:01\r\u001b[K     |█████████████████████████████▎  | 256kB 5.9MB/s eta 0:00:01\r\u001b[K     |██████████████████████████████▍ | 266kB 5.9MB/s eta 0:00:01\r\u001b[K     |███████████████████████████████▋| 276kB 5.9MB/s eta 0:00:01\r\u001b[K     |████████████████████████████████| 286kB 5.9MB/s \n",
            "\u001b[?25hRequirement already satisfied: pytz in /usr/local/lib/python3.6/dist-packages (from dateparser) (2018.9)\n",
            "Requirement already satisfied: python-dateutil in /usr/local/lib/python3.6/dist-packages (from dateparser) (2.8.1)\n",
            "Requirement already satisfied: tzlocal in /usr/local/lib/python3.6/dist-packages (from dateparser) (1.5.1)\n",
            "Requirement already satisfied: regex!=2019.02.19 in /usr/local/lib/python3.6/dist-packages (from dateparser) (2019.12.20)\n",
            "Requirement already satisfied: six>=1.5 in /usr/local/lib/python3.6/dist-packages (from python-dateutil->dateparser) (1.15.0)\n",
            "Installing collected packages: dateparser\n",
            "Successfully installed dateparser-1.0.0\n"
          ],
          "name": "stdout"
        }
      ]
    },
    {
      "cell_type": "code",
      "metadata": {
        "id": "RV1lqR2odzpW"
      },
      "source": [
        "import dateparser"
      ],
      "execution_count": null,
      "outputs": []
    },
    {
      "cell_type": "markdown",
      "metadata": {
        "id": "zNz0IQ8cdzpW"
      },
      "source": [
        "To convert from thai text date string, we will use the parse method.  Note that the parse method assumes the BC year, not BE.  Thus, we will have to subtract 543 from the year.  In addition, weekday() returns day of week with 0=Monday, ..., 6=Sunday."
      ]
    },
    {
      "cell_type": "code",
      "metadata": {
        "id": "aTekrfsAdzpW",
        "colab": {
          "base_uri": "https://localhost:8080/"
        },
        "outputId": "1deaccac-d411-4f17-b167-ab597f7e526f"
      },
      "source": [
        "dt = dateparser.parse('วันศุกร์ที่ 17 มกราคม 2563')\n",
        "print(dt)\n",
        "print(dt.weekday())\n",
        "dt = dt.replace(year=dt.year-543)\n",
        "print(dt)\n",
        "print(dt.weekday())"
      ],
      "execution_count": null,
      "outputs": [
        {
          "output_type": "stream",
          "text": [
            "2563-01-17 00:00:00\n",
            "0\n",
            "2020-01-17 00:00:00\n",
            "4\n"
          ],
          "name": "stdout"
        }
      ]
    },
    {
      "cell_type": "code",
      "metadata": {
        "id": "6JwVFT5LdzpX",
        "colab": {
          "base_uri": "https://localhost:8080/"
        },
        "outputId": "dacb2b16-175e-456e-feb9-d410ef814114"
      },
      "source": [
        "dt = dateparser.parse('วันเสาร์ที่ 21 กันยายน 2562')\n",
        "dt = dt.replace(year=dt.year-543)\n",
        "print(dt)\n",
        "print(dt.weekday())"
      ],
      "execution_count": null,
      "outputs": [
        {
          "output_type": "stream",
          "text": [
            "2019-09-21 00:00:00\n",
            "5\n"
          ],
          "name": "stdout"
        }
      ]
    },
    {
      "cell_type": "markdown",
      "metadata": {
        "id": "uVl9AHohdzpX"
      },
      "source": [
        "Count the distribution of number of week days that are “วันพระ” for all three years and answer the following questions:"
      ]
    },
    {
      "cell_type": "code",
      "metadata": {
        "id": "97kXAvXkdzpY"
      },
      "source": [
        "url_62 = 'https://www.myhora.com/ปฏิทิน/วันพระ-พ.ศ.2562.aspx'\n",
        "url_63 = 'https://www.myhora.com/ปฏิทิน/วันพระ-พ.ศ.2563.aspx'\n",
        "url_64 = 'https://www.myhora.com/ปฏิทิน/วันพระ-พ.ศ.2564.aspx'\n",
        "\n",
        "lookup = {\n",
        "    0: 'Monday',\n",
        "    1: 'Tuesday',\n",
        "    2: 'Wednesday',\n",
        "    3: 'Thursday',\n",
        "    4: 'Friday',\n",
        "    5: 'Saturday',\n",
        "    6: 'Sunday'\n",
        "}\n",
        "\n",
        "def to_dt(thai_dt):\n",
        "  dt = dateparser.parse(thai_dt)\n",
        "  dt = dt.replace(year=dt.year-543)\n",
        "  return {'Date': dt, 'Weekday': lookup[dt.weekday()]}"
      ],
      "execution_count": null,
      "outputs": []
    },
    {
      "cell_type": "markdown",
      "metadata": {
        "id": "8Da43lyJdzpY"
      },
      "source": [
        "## How many days in total (of 3 years) that วันพระ is Sunday?"
      ]
    },
    {
      "cell_type": "code",
      "metadata": {
        "id": "aF0KM3HVflv8"
      },
      "source": [
        "import requests\n",
        "import re\n",
        "from bs4 import BeautifulSoup\n",
        "import pandas as pd"
      ],
      "execution_count": null,
      "outputs": []
    },
    {
      "cell_type": "code",
      "metadata": {
        "id": "XYaVGq1NdzpZ"
      },
      "source": [
        "def find_wanpra(url):\n",
        "  wanpra = requests.get(url)\n",
        "  soup = BeautifulSoup(wanpra.text, \"lxml\")\n",
        "  soup.prettify()\n",
        "  ls = soup.find_all(attrs={'class': 'col3'})\n",
        "  result = [to_dt(str(e.contents)) for e in ls]\n",
        "  return result"
      ],
      "execution_count": null,
      "outputs": []
    },
    {
      "cell_type": "code",
      "metadata": {
        "id": "83Rids-jn_ZU"
      },
      "source": [
        "df_62 = pd.DataFrame(find_wanpra(url_62))\n",
        "df_63 = pd.DataFrame(find_wanpra(url_63))\n",
        "df_64 = pd.DataFrame(find_wanpra(url_64))"
      ],
      "execution_count": null,
      "outputs": []
    },
    {
      "cell_type": "code",
      "metadata": {
        "id": "ew0Dk0nlooTB"
      },
      "source": [
        "df = pd.concat([df_62, df_63, df_64])"
      ],
      "execution_count": null,
      "outputs": []
    },
    {
      "cell_type": "code",
      "metadata": {
        "colab": {
          "base_uri": "https://localhost:8080/"
        },
        "id": "YxoRu7h9oyys",
        "outputId": "80669765-0a1a-4ea0-c0b8-e488f5a0a19b"
      },
      "source": [
        "df[df.Weekday == 'Sunday'].shape[0]"
      ],
      "execution_count": null,
      "outputs": [
        {
          "output_type": "execute_result",
          "data": {
            "text/plain": [
              "22"
            ]
          },
          "metadata": {
            "tags": []
          },
          "execution_count": 80
        }
      ]
    },
    {
      "cell_type": "markdown",
      "metadata": {
        "id": "DRuZK_fJdzpZ"
      },
      "source": [
        "## Which day of the week that has the minimum number of วันพระ?"
      ]
    },
    {
      "cell_type": "code",
      "metadata": {
        "id": "41SHkerkdzpZ",
        "colab": {
          "base_uri": "https://localhost:8080/",
          "height": 35
        },
        "outputId": "a1277ee1-32fb-47c7-b14f-1454bd5af2f0"
      },
      "source": [
        "df.Weekday.value_counts().idxmin()"
      ],
      "execution_count": null,
      "outputs": [
        {
          "output_type": "execute_result",
          "data": {
            "application/vnd.google.colaboratory.intrinsic+json": {
              "type": "string"
            },
            "text/plain": [
              "'Saturday'"
            ]
          },
          "metadata": {
            "tags": []
          },
          "execution_count": 84
        }
      ]
    },
    {
      "cell_type": "markdown",
      "metadata": {
        "id": "r-rSahfMdzpa"
      },
      "source": [
        "## Which day of the week that has the maximum number of วันพระ?"
      ]
    },
    {
      "cell_type": "code",
      "metadata": {
        "id": "F6T9uIjkdzpa",
        "colab": {
          "base_uri": "https://localhost:8080/",
          "height": 35
        },
        "outputId": "59e512b7-6566-4d46-f6fc-dfbfabd44182"
      },
      "source": [
        "df.Weekday.value_counts().idxmax()"
      ],
      "execution_count": null,
      "outputs": [
        {
          "output_type": "execute_result",
          "data": {
            "application/vnd.google.colaboratory.intrinsic+json": {
              "type": "string"
            },
            "text/plain": [
              "'Monday'"
            ]
          },
          "metadata": {
            "tags": []
          },
          "execution_count": 85
        }
      ]
    }
  ]
}