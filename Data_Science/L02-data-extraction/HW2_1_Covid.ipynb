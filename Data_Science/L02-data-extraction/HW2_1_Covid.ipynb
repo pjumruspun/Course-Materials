{
  "nbformat": 4,
  "nbformat_minor": 0,
  "metadata": {
    "kernelspec": {
      "display_name": "Python 3",
      "language": "python",
      "name": "python3"
    },
    "language_info": {
      "codemirror_mode": {
        "name": "ipython",
        "version": 3
      },
      "file_extension": ".py",
      "mimetype": "text/x-python",
      "name": "python",
      "nbconvert_exporter": "python",
      "pygments_lexer": "ipython3",
      "version": "3.7.6"
    },
    "toc": {
      "base_numbering": 1,
      "nav_menu": {},
      "number_sections": true,
      "sideBar": true,
      "skip_h1_title": false,
      "title_cell": "Table of Contents",
      "title_sidebar": "Contents",
      "toc_cell": false,
      "toc_position": {},
      "toc_section_display": true,
      "toc_window_display": false
    },
    "varInspector": {
      "cols": {
        "lenName": 16,
        "lenType": 16,
        "lenVar": 40
      },
      "kernels_config": {
        "python": {
          "delete_cmd_postfix": "",
          "delete_cmd_prefix": "del ",
          "library": "var_list.py",
          "varRefreshCmd": "print(var_dic_list())"
        },
        "r": {
          "delete_cmd_postfix": ") ",
          "delete_cmd_prefix": "rm(",
          "library": "var_list.r",
          "varRefreshCmd": "cat(var_dic_list()) "
        }
      },
      "types_to_exclude": [
        "module",
        "function",
        "builtin_function_or_method",
        "instance",
        "_Feature"
      ],
      "window_display": false
    },
    "colab": {
      "name": "สำเนาของ Assignment-1.ipynb",
      "provenance": [],
      "collapsed_sections": []
    }
  },
  "cells": [
    {
      "cell_type": "markdown",
      "metadata": {
        "id": "nKCU8LruQUp1"
      },
      "source": [
        "# Assignment: Data Extraction\n",
        "Extract Thailand's Covid-19 cases data via DDC open-data API at https://covid19.th-stat.com/api/open/cases\n",
        "and answer the following questions:\n",
        "- how many people are infected on new year day of 2021?\n",
        "- which country **is not** in the list of the nationality of the infected people on the New Year day of 2021?\n",
        "- what are the average ages by gender of infected people on the New Year day of 2021?"
      ]
    },
    {
      "cell_type": "markdown",
      "metadata": {
        "id": "mq2ENHanQUp5"
      },
      "source": [
        "## how many people are infected on new year day of 2021?"
      ]
    },
    {
      "cell_type": "code",
      "metadata": {
        "id": "GfUj40y-QUp6"
      },
      "source": [
        "import requests\n",
        "import json\n",
        "import pprint\n",
        "import pandas as pd"
      ],
      "execution_count": null,
      "outputs": []
    },
    {
      "cell_type": "code",
      "metadata": {
        "id": "nqAyymwESEZX"
      },
      "source": [
        "api_url = 'https://covid19.th-stat.com/api/open/cases'\n",
        "data_info = requests.get(api_url)\n",
        "\n",
        "covid_info = json.loads(data_info.text)"
      ],
      "execution_count": null,
      "outputs": []
    },
    {
      "cell_type": "code",
      "metadata": {
        "id": "dXYrR_JGSufP"
      },
      "source": [
        "data_list = []\n",
        "for d in covid_info['Data']:\n",
        "  data_list.append((d['ConfirmDate'], d['No'], d['Age'], d['Gender'], d['GenderEn'], \n",
        "                    d['Nation'], d['NationEn'], d['Province'], d['ProvinceId'], \n",
        "                    d['District'], d['ProvinceEn'], d['Detail'], d['StatQuarantine']))\n",
        "data_list"
      ],
      "execution_count": null,
      "outputs": []
    },
    {
      "cell_type": "code",
      "metadata": {
        "id": "FElMh_cCVUMP"
      },
      "source": [
        "pd.DataFrame.from_dict(covid_info)"
      ],
      "execution_count": null,
      "outputs": []
    },
    {
      "cell_type": "code",
      "metadata": {
        "id": "RCfTYUDVVhWS"
      },
      "source": [
        "df = pd.DataFrame(data_list, columns=['ConfirmDate','No','Age','Gender','GenderEn','Nation','NationEn','Province','ProvinceId','District','ProvinceEn','Detail','StatQuarantine'])"
      ],
      "execution_count": null,
      "outputs": []
    },
    {
      "cell_type": "code",
      "metadata": {
        "colab": {
          "base_uri": "https://localhost:8080/"
        },
        "id": "U8Ge0QnvWFum",
        "outputId": "95ffd40c-ef46-4b99-f198-28ffe0158327"
      },
      "source": [
        "from datetime import datetime, timezone\n",
        "\n",
        "new_year = datetime(2021, 1, 1, tzinfo=timezone.utc)\n",
        "df['ConfirmDate'] = pd.to_datetime(df.ConfirmDate, utc=True)\n",
        "df[df.ConfirmDate == new_year].shape[0]"
      ],
      "execution_count": null,
      "outputs": [
        {
          "output_type": "execute_result",
          "data": {
            "text/plain": [
              "279"
            ]
          },
          "metadata": {
            "tags": []
          },
          "execution_count": 44
        }
      ]
    },
    {
      "cell_type": "markdown",
      "metadata": {
        "id": "-j9gHTycQUp6"
      },
      "source": [
        "## Which country is not in the list of the nationality of the infected people on the New Year day of 2021?"
      ]
    },
    {
      "cell_type": "code",
      "metadata": {
        "id": "HTgRL_MVdf5y"
      },
      "source": [
        "df_new_year = df[df.ConfirmDate == new_year]"
      ],
      "execution_count": null,
      "outputs": []
    },
    {
      "cell_type": "code",
      "metadata": {
        "id": "NPyGDMhcQUp7",
        "colab": {
          "base_uri": "https://localhost:8080/"
        },
        "outputId": "b244c9ca-030f-4d82-e9ed-78fc4c2b096f"
      },
      "source": [
        "nation_ls = df_new_year.Nation.value_counts().index.tolist()\n",
        "mcv_choices = ['Thailand', 'Cambodia', 'Burma', 'USA', 'China', 'Germany', 'Japan', 'Slovenia', 'Vietnam', 'Italy']\n",
        "ans = []\n",
        "for e in mcv_choices:\n",
        "  if e not in nation_ls:\n",
        "    ans.append(e)\n",
        "\n",
        "ans"
      ],
      "execution_count": null,
      "outputs": [
        {
          "output_type": "execute_result",
          "data": {
            "text/plain": [
              "['USA', 'Japan']"
            ]
          },
          "metadata": {
            "tags": []
          },
          "execution_count": 81
        }
      ]
    },
    {
      "cell_type": "markdown",
      "metadata": {
        "id": "iR15CvNIQUp7"
      },
      "source": [
        "## What are the average ages by gender of infected people on the New Year day of 2021?"
      ]
    },
    {
      "cell_type": "code",
      "metadata": {
        "id": "42Jus7OuQUp7",
        "colab": {
          "base_uri": "https://localhost:8080/"
        },
        "outputId": "673cc2d4-939e-4f6f-929f-86400ce6a5df"
      },
      "source": [
        "df_group = df_new_year.groupby('GenderEn')\n",
        "df_group.Age.mean()"
      ],
      "execution_count": null,
      "outputs": [
        {
          "output_type": "execute_result",
          "data": {
            "text/plain": [
              "GenderEn\n",
              "Female     38.675676\n",
              "Male       39.417910\n",
              "Unknown          NaN\n",
              "Name: Age, dtype: float64"
            ]
          },
          "metadata": {
            "tags": []
          },
          "execution_count": 82
        }
      ]
    }
  ]
}